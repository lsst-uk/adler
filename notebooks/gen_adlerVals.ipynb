{
 "cells": [
  {
   "cell_type": "code",
   "execution_count": 1,
   "id": "80767369",
   "metadata": {},
   "outputs": [],
   "source": [
    "import pandas as pd\n",
    "\n",
    "from sbpy.photometry import HG, HG1G2, HG12, HG12_Pen16, LinearPhaseFunc\n",
    "import astropy.units as u"
   ]
  },
  {
   "cell_type": "code",
   "execution_count": 2,
   "id": "779bc1a6",
   "metadata": {},
   "outputs": [],
   "source": [
    "filters = [\"u\",\"g\",\"r\",\"i\",\"z\",\"y\"]"
   ]
  },
  {
   "cell_type": "code",
   "execution_count": 3,
   "id": "fa864633",
   "metadata": {},
   "outputs": [],
   "source": [
    "# phase_models={\n",
    "# \"HG\":{\"model_name_short\":\"_B89\",\"model_parameters\":[\"H\",\"G\"],\"model_function\":HG()},\n",
    "# \"HG1G2\":{\"model_name_short\":\"_3M10\",\"model_parameters\":[\"H\",\"G1\",\"G2\"],\"model_function\":HG1G2()},\n",
    "# \"HG12\":{\"model_name_short\":\"_2M10\",\"model_parameters\":[\"H\",\"G12\"],\"model_function\":HG12()},\n",
    "# \"HG12_Pen16\":{\"model_name_short\":\"_P16\",\"model_parameters\":[\"H\",\"G12\"],\"model_function\":HG12_Pen16()},\n",
    "# \"LinearPhaseFunc\":{\"model_name_short\":\"_Lin\",\"model_parameters\":[\"H\",\"S\"],\"model_function\":LinearPhaseFunc(H = 15.0 *u.mag, S = 0.04 * (u.mag/u.deg))}\n",
    "# }\n",
    "\n",
    "# phase_models={\n",
    "# \"HG\":{\"model_name_short\":\"_B89\",\"model_parameters\":[\"H\",\"G\"],\"model_function\":HG()},\n",
    "# \"HG1G2\":{\"model_name_short\":\"_3M10\",\"model_parameters\":[\"H\",\"G1\",\"G2\"],\"model_function\":HG1G2()},\n",
    "# \"HG12_Pen16\":{\"model_name_short\":\"_P16\",\"model_parameters\":[\"H\",\"G12\"],\"model_function\":HG12_Pen16()},\n",
    "# \"LinearPhaseFunc\":{\"model_name_short\":\"_Lin\",\"model_parameters\":[\"H\",\"S\"],\"model_function\":LinearPhaseFunc(H = 15.0 *u.mag, S = 0.04 * (u.mag/u.deg))}\n",
    "# }\n",
    "\n",
    "phase_models={\n",
    "\"HG12_Pen16\":{\"model_name_short\":\"_P16\",\"model_parameters\":[\"H\",\"G12\"],\"model_function\":HG12_Pen16()},\n",
    "}"
   ]
  },
  {
   "cell_type": "code",
   "execution_count": 4,
   "id": "2f2db348",
   "metadata": {},
   "outputs": [],
   "source": [
    "# when we fit models for adler we either do:\n",
    "# a rotational likelihood fit of HG12_Pen16\n",
    "# a simple LSQ fit of a model that LSST does not provide (HG, HG1G2, Linear)\n",
    "# a phase curve model for each apparition - this is a separate data table, worry about this later"
   ]
  },
  {
   "cell_type": "code",
   "execution_count": 5,
   "id": "efb0115c",
   "metadata": {},
   "outputs": [],
   "source": [
    "# LSST schema\n",
    "# phaseAngle - float - deg - Phase angle\n",
    "# arc - float - day - MPCORB: Arc (days), for single-opposition objects\n",
    "# nobs - int - MPCORB: Number of observations"
   ]
  },
  {
   "cell_type": "code",
   "execution_count": 6,
   "id": "0283cd84",
   "metadata": {},
   "outputs": [],
   "source": [
    "# required variables for each filter\n",
    "\n",
    "# record the properties of the most recent phasecurve fit:\n",
    "\n",
    "# minimum phase angle\n",
    "# phase angle range\n",
    "# number of observations\n",
    "# arc of observations in days\n",
    "\n",
    "filt_vals = [\"phaseAngle_min\",\n",
    "       \"phaseAngle_range\",\n",
    "       \"nobs\",\n",
    "       \"arc\"]\n"
   ]
  },
  {
   "cell_type": "code",
   "execution_count": 7,
   "id": "e3dacf29",
   "metadata": {},
   "outputs": [
    {
     "data": {
      "text/plain": [
       "['phaseAngle_min', 'phaseAngle_range', 'nobs', 'arc']"
      ]
     },
     "execution_count": 7,
     "metadata": {},
     "output_type": "execute_result"
    }
   ],
   "source": [
    "filt_vals"
   ]
  },
  {
   "cell_type": "code",
   "execution_count": 8,
   "id": "9b94ba0b",
   "metadata": {},
   "outputs": [
    {
     "name": "stdout",
     "output_type": "stream",
     "text": [
      "u_phaseAngle_min_adler\n",
      "u_phaseAngle_range_adler\n",
      "u_nobs_adler\n",
      "u_arc_adler\n",
      "u_H_P16_adler\n",
      "u_G12_P16_adler\n",
      "u_HErr_P16_adler\n",
      "u_G12Err_P16_adler\n",
      "g_phaseAngle_min_adler\n",
      "g_phaseAngle_range_adler\n",
      "g_nobs_adler\n",
      "g_arc_adler\n",
      "g_H_P16_adler\n",
      "g_G12_P16_adler\n",
      "g_HErr_P16_adler\n",
      "g_G12Err_P16_adler\n",
      "g_phaseAngle_min_adler\n",
      "g_phaseAngle_range_adler\n",
      "g_nobs_adler\n",
      "g_arc_adler\n",
      "g_H_P16_adler\n",
      "g_G12_P16_adler\n",
      "g_HErr_P16_adler\n",
      "g_G12Err_P16_adler\n",
      "r_phaseAngle_min_adler\n",
      "r_phaseAngle_range_adler\n",
      "r_nobs_adler\n",
      "r_arc_adler\n",
      "r_H_P16_adler\n",
      "r_G12_P16_adler\n",
      "r_HErr_P16_adler\n",
      "r_G12Err_P16_adler\n",
      "r_phaseAngle_min_adler\n",
      "r_phaseAngle_range_adler\n",
      "r_nobs_adler\n",
      "r_arc_adler\n",
      "r_H_P16_adler\n",
      "r_G12_P16_adler\n",
      "r_HErr_P16_adler\n",
      "r_G12Err_P16_adler\n",
      "r_phaseAngle_min_adler\n",
      "r_phaseAngle_range_adler\n",
      "r_nobs_adler\n",
      "r_arc_adler\n",
      "r_H_P16_adler\n",
      "r_G12_P16_adler\n",
      "r_HErr_P16_adler\n",
      "r_G12Err_P16_adler\n",
      "i_phaseAngle_min_adler\n",
      "i_phaseAngle_range_adler\n",
      "i_nobs_adler\n",
      "i_arc_adler\n",
      "i_H_P16_adler\n",
      "i_G12_P16_adler\n",
      "i_HErr_P16_adler\n",
      "i_G12Err_P16_adler\n",
      "i_phaseAngle_min_adler\n",
      "i_phaseAngle_range_adler\n",
      "i_nobs_adler\n",
      "i_arc_adler\n",
      "i_H_P16_adler\n",
      "i_G12_P16_adler\n",
      "i_HErr_P16_adler\n",
      "i_G12Err_P16_adler\n",
      "i_phaseAngle_min_adler\n",
      "i_phaseAngle_range_adler\n",
      "i_nobs_adler\n",
      "i_arc_adler\n",
      "i_H_P16_adler\n",
      "i_G12_P16_adler\n",
      "i_HErr_P16_adler\n",
      "i_G12Err_P16_adler\n",
      "i_phaseAngle_min_adler\n",
      "i_phaseAngle_range_adler\n",
      "i_nobs_adler\n",
      "i_arc_adler\n",
      "i_H_P16_adler\n",
      "i_G12_P16_adler\n",
      "i_HErr_P16_adler\n",
      "i_G12Err_P16_adler\n",
      "z_phaseAngle_min_adler\n",
      "z_phaseAngle_range_adler\n",
      "z_nobs_adler\n",
      "z_arc_adler\n",
      "z_H_P16_adler\n",
      "z_G12_P16_adler\n",
      "z_HErr_P16_adler\n",
      "z_G12Err_P16_adler\n",
      "z_phaseAngle_min_adler\n",
      "z_phaseAngle_range_adler\n",
      "z_nobs_adler\n",
      "z_arc_adler\n",
      "z_H_P16_adler\n",
      "z_G12_P16_adler\n",
      "z_HErr_P16_adler\n",
      "z_G12Err_P16_adler\n",
      "z_phaseAngle_min_adler\n",
      "z_phaseAngle_range_adler\n",
      "z_nobs_adler\n",
      "z_arc_adler\n",
      "z_H_P16_adler\n",
      "z_G12_P16_adler\n",
      "z_HErr_P16_adler\n",
      "z_G12Err_P16_adler\n",
      "z_phaseAngle_min_adler\n",
      "z_phaseAngle_range_adler\n",
      "z_nobs_adler\n",
      "z_arc_adler\n",
      "z_H_P16_adler\n",
      "z_G12_P16_adler\n",
      "z_HErr_P16_adler\n",
      "z_G12Err_P16_adler\n",
      "z_phaseAngle_min_adler\n",
      "z_phaseAngle_range_adler\n",
      "z_nobs_adler\n",
      "z_arc_adler\n",
      "z_H_P16_adler\n",
      "z_G12_P16_adler\n",
      "z_HErr_P16_adler\n",
      "z_G12Err_P16_adler\n",
      "y_phaseAngle_min_adler\n",
      "y_phaseAngle_range_adler\n",
      "y_nobs_adler\n",
      "y_arc_adler\n",
      "y_H_P16_adler\n",
      "y_G12_P16_adler\n",
      "y_HErr_P16_adler\n",
      "y_G12Err_P16_adler\n",
      "y_phaseAngle_min_adler\n",
      "y_phaseAngle_range_adler\n",
      "y_nobs_adler\n",
      "y_arc_adler\n",
      "y_H_P16_adler\n",
      "y_G12_P16_adler\n",
      "y_HErr_P16_adler\n",
      "y_G12Err_P16_adler\n",
      "y_phaseAngle_min_adler\n",
      "y_phaseAngle_range_adler\n",
      "y_nobs_adler\n",
      "y_arc_adler\n",
      "y_H_P16_adler\n",
      "y_G12_P16_adler\n",
      "y_HErr_P16_adler\n",
      "y_G12Err_P16_adler\n",
      "y_phaseAngle_min_adler\n",
      "y_phaseAngle_range_adler\n",
      "y_nobs_adler\n",
      "y_arc_adler\n",
      "y_H_P16_adler\n",
      "y_G12_P16_adler\n",
      "y_HErr_P16_adler\n",
      "y_G12Err_P16_adler\n",
      "y_phaseAngle_min_adler\n",
      "y_phaseAngle_range_adler\n",
      "y_nobs_adler\n",
      "y_arc_adler\n",
      "y_H_P16_adler\n",
      "y_G12_P16_adler\n",
      "y_HErr_P16_adler\n",
      "y_G12Err_P16_adler\n",
      "y_phaseAngle_min_adler\n",
      "y_phaseAngle_range_adler\n",
      "y_nobs_adler\n",
      "y_arc_adler\n",
      "y_H_P16_adler\n",
      "y_G12_P16_adler\n",
      "y_HErr_P16_adler\n",
      "y_G12Err_P16_adler\n"
     ]
    }
   ],
   "source": [
    "vals = []\n",
    "\n",
    "for filt in filters:\n",
    "\n",
    "    vals += filt_vals\n",
    "    \n",
    "#     print(len(vals))\n",
    "\n",
    "    for model in phase_models:\n",
    "                \n",
    "        model_vals = phase_models[model][\"model_parameters\"]\n",
    "        _m = phase_models[model][\"model_name_short\"]\n",
    "#         print(model_vals,_m)\n",
    "        \n",
    "        model_vals_err = [m+\"Err\"+_m for m in model_vals]\n",
    "        model_vals = [m+_m for m in model_vals]\n",
    "        \n",
    "        vals += model_vals\n",
    "        vals += model_vals_err\n",
    "                \n",
    "#         print(len(vals))\n",
    "\n",
    "    vals_out = []\n",
    "    for v in vals:\n",
    "\n",
    "        x = \"{}_{}_adler\".format(filt,v)\n",
    "        print(x)\n",
    "\n",
    "        vals_out.append(x)\n",
    "        \n",
    "#     break"
   ]
  },
  {
   "cell_type": "code",
   "execution_count": 9,
   "id": "ea4f6ea7",
   "metadata": {},
   "outputs": [],
   "source": [
    "# store abs_mag, phase_param, model_name"
   ]
  },
  {
   "cell_type": "code",
   "execution_count": 10,
   "id": "a3f05352",
   "metadata": {},
   "outputs": [
    {
     "name": "stdout",
     "output_type": "stream",
     "text": [
      "4\n",
      "['H', 'G12'] _P16\n",
      "4\n"
     ]
    }
   ],
   "source": [
    "vals = []\n",
    "adlerVals = {}\n",
    "\n",
    "for filt in filters:\n",
    "    \n",
    "#     adlerVals[filt] = filt_vals\n",
    "    adlerVals[filt] = {}\n",
    "    adlerVals[filt][\"vals\"] = filt_vals\n",
    "\n",
    "    vals += filt_vals\n",
    "    \n",
    "    print(len(vals))\n",
    "\n",
    "    for model in phase_models:\n",
    "                \n",
    "        model_vals = phase_models[model][\"model_parameters\"]\n",
    "        _m = phase_models[model][\"model_name_short\"]\n",
    "        print(model_vals,_m)\n",
    "        model_vals = [m+_m for m in model_vals]\n",
    "        \n",
    "#         vals += model_vals\n",
    "        \n",
    "        adlerVals[filt][model] = model_vals\n",
    "        \n",
    "        print(len(vals))\n",
    "\n",
    "#         vals_out = []\n",
    "#         for v in vals:\n",
    "\n",
    "#             x = \"{}_{}_adler\".format(filt,v)\n",
    "#             print(x)\n",
    "\n",
    "#             vals_out.append(x)\n",
    "\n",
    "#         adlerVals[filt][model] = vals_out\n",
    "        \n",
    "    break"
   ]
  },
  {
   "cell_type": "code",
   "execution_count": 11,
   "id": "72b27c11",
   "metadata": {},
   "outputs": [
    {
     "data": {
      "text/plain": [
       "{'u': {'vals': ['phaseAngle_min', 'phaseAngle_range', 'nobs', 'arc'],\n",
       "  'HG12_Pen16': ['H_P16', 'G12_P16']}}"
      ]
     },
     "execution_count": 11,
     "metadata": {},
     "output_type": "execute_result"
    }
   ],
   "source": [
    "adlerVals"
   ]
  },
  {
   "cell_type": "code",
   "execution_count": 12,
   "id": "23c55eef",
   "metadata": {},
   "outputs": [
    {
     "data": {
      "text/plain": [
       "dict_keys(['u'])"
      ]
     },
     "execution_count": 12,
     "metadata": {},
     "output_type": "execute_result"
    }
   ],
   "source": [
    "adlerVals.keys()"
   ]
  },
  {
   "cell_type": "code",
   "execution_count": 13,
   "id": "cba80597",
   "metadata": {},
   "outputs": [],
   "source": [
    "x = {}\n",
    "x[filt] = {}\n",
    "x[filt][\"vals\"] = [\"min\",\"range\"]\n",
    "x[filt][\"HG\"] = [\"H\",\"G\"]"
   ]
  },
  {
   "cell_type": "code",
   "execution_count": 14,
   "id": "37d10029",
   "metadata": {},
   "outputs": [
    {
     "data": {
      "text/plain": [
       "{'u': {'vals': ['min', 'range'], 'HG': ['H', 'G']}}"
      ]
     },
     "execution_count": 14,
     "metadata": {},
     "output_type": "execute_result"
    }
   ],
   "source": [
    "x"
   ]
  },
  {
   "cell_type": "code",
   "execution_count": 15,
   "id": "0fc29682",
   "metadata": {},
   "outputs": [],
   "source": [
    "df = pd.json_normalize(adlerVals, sep='_')"
   ]
  },
  {
   "cell_type": "code",
   "execution_count": null,
   "id": "09dc8aa4",
   "metadata": {},
   "outputs": [],
   "source": []
  }
 ],
 "metadata": {
  "kernelspec": {
   "display_name": "adler-dev",
   "language": "python",
   "name": "adler-dev"
  },
  "language_info": {
   "codemirror_mode": {
    "name": "ipython",
    "version": 3
   },
   "file_extension": ".py",
   "mimetype": "text/x-python",
   "name": "python",
   "nbconvert_exporter": "python",
   "pygments_lexer": "ipython3",
   "version": "3.10.13"
  }
 },
 "nbformat": 4,
 "nbformat_minor": 5
}
