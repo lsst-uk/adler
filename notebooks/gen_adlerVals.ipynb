{
 "cells": [
  {
   "cell_type": "code",
   "execution_count": null,
   "id": "80767369",
   "metadata": {},
   "outputs": [],
   "source": [
    "import pandas as pd\n",
    "\n",
    "from sbpy.photometry import HG, HG1G2, HG12, HG12_Pen16, LinearPhaseFunc\n",
    "import astropy.units as u"
   ]
  },
  {
   "cell_type": "code",
   "execution_count": null,
   "id": "779bc1a6",
   "metadata": {},
   "outputs": [],
   "source": [
    "filters = [\"u\",\"g\",\"r\",\"i\",\"z\",\"y\"]"
   ]
  },
  {
   "cell_type": "code",
   "execution_count": null,
   "id": "fa864633",
   "metadata": {},
   "outputs": [],
   "source": [
    "# phase_models={\n",
    "# \"HG\":{\"model_name_short\":\"_B89\",\"model_parameters\":[\"H\",\"G\"],\"model_function\":HG()},\n",
    "# \"HG1G2\":{\"model_name_short\":\"_3M10\",\"model_parameters\":[\"H\",\"G1\",\"G2\"],\"model_function\":HG1G2()},\n",
    "# \"HG12\":{\"model_name_short\":\"_2M10\",\"model_parameters\":[\"H\",\"G12\"],\"model_function\":HG12()},\n",
    "# \"HG12_Pen16\":{\"model_name_short\":\"_P16\",\"model_parameters\":[\"H\",\"G12\"],\"model_function\":HG12_Pen16()},\n",
    "# \"LinearPhaseFunc\":{\"model_name_short\":\"_Lin\",\"model_parameters\":[\"H\",\"S\"],\"model_function\":LinearPhaseFunc(H = 15.0 *u.mag, S = 0.04 * (u.mag/u.deg))}\n",
    "# }\n",
    "\n",
    "phase_models={\n",
    "\"HG\":{\"model_name_short\":\"_B89\",\"model_parameters\":[\"H\",\"G\"],\"model_function\":HG()},\n",
    "\"HG1G2\":{\"model_name_short\":\"_3M10\",\"model_parameters\":[\"H\",\"G1\",\"G2\"],\"model_function\":HG1G2()},\n",
    "\"HG12_Pen16\":{\"model_name_short\":\"_P16\",\"model_parameters\":[\"H\",\"G12\"],\"model_function\":HG12_Pen16()},\n",
    "\"LinearPhaseFunc\":{\"model_name_short\":\"_Lin\",\"model_parameters\":[\"H\",\"S\"],\"model_function\":LinearPhaseFunc(H = 15.0 *u.mag, S = 0.04 * (u.mag/u.deg))}\n",
    "}"
   ]
  },
  {
   "cell_type": "code",
   "execution_count": null,
   "id": "2f2db348",
   "metadata": {},
   "outputs": [],
   "source": [
    "# when we fit models for adler we either do:\n",
    "# a rotational likelihood fit of HG12_Pen16\n",
    "# a simple LSQ fit of a model that LSST does not provide (HG, HG1G2, Linear)\n",
    "# a phase curve model for each apparition - this is a separate data table, worry about this later"
   ]
  },
  {
   "cell_type": "code",
   "execution_count": null,
   "id": "efb0115c",
   "metadata": {},
   "outputs": [],
   "source": [
    "# LSST schema\n",
    "# phaseAngle - float - deg - Phase angle\n",
    "# arc - float - day - MPCORB: Arc (days), for single-opposition objects\n",
    "# nobs - int - MPCORB: Number of observations"
   ]
  },
  {
   "cell_type": "code",
   "execution_count": null,
   "id": "0283cd84",
   "metadata": {},
   "outputs": [],
   "source": [
    "# required variables for each filter\n",
    "\n",
    "# record the properties of the most recent phasecurve fit:\n",
    "\n",
    "# minimum phase angle\n",
    "# phase angle range\n",
    "# number of observations\n",
    "# arc of observations in days\n",
    "\n",
    "filt_vals = [\"phaseAngle_min\",\n",
    "       \"phaseAngle_range\",\n",
    "       \"nobs\",\n",
    "       \"arc\"]\n"
   ]
  },
  {
   "cell_type": "code",
   "execution_count": null,
   "id": "e3dacf29",
   "metadata": {},
   "outputs": [],
   "source": [
    "filt_vals"
   ]
  },
  {
   "cell_type": "code",
   "execution_count": null,
   "id": "9b94ba0b",
   "metadata": {},
   "outputs": [],
   "source": [
    "vals = []\n",
    "\n",
    "for filt in filters:\n",
    "\n",
    "    vals += filt_vals\n",
    "    \n",
    "    print(len(vals))\n",
    "\n",
    "    for model in phase_models:\n",
    "                \n",
    "        model_vals = phase_models[model][\"model_parameters\"]\n",
    "        _m = phase_models[model][\"model_name_short\"]\n",
    "        print(model_vals,_m)\n",
    "        model_vals = [m+_m for m in model_vals]\n",
    "        \n",
    "        vals += model_vals\n",
    "                \n",
    "        print(len(vals))\n",
    "\n",
    "    vals_out = []\n",
    "    for v in vals:\n",
    "\n",
    "        x = \"{}_{}_adler\".format(filt,v)\n",
    "        print(x)\n",
    "\n",
    "        vals_out.append(x)\n",
    "        \n",
    "    break"
   ]
  },
  {
   "cell_type": "code",
   "execution_count": null,
   "id": "ea4f6ea7",
   "metadata": {},
   "outputs": [],
   "source": [
    "# store abs_mag, phase_param, model_name"
   ]
  },
  {
   "cell_type": "code",
   "execution_count": null,
   "id": "a3f05352",
   "metadata": {},
   "outputs": [],
   "source": [
    "vals = []\n",
    "adlerVals = {}\n",
    "\n",
    "for filt in filters:\n",
    "    \n",
    "#     adlerVals[filt] = filt_vals\n",
    "    adlerVals[filt] = {}\n",
    "    adlerVals[filt][\"vals\"] = filt_vals\n",
    "\n",
    "    vals += filt_vals\n",
    "    \n",
    "    print(len(vals))\n",
    "\n",
    "    for model in phase_models:\n",
    "                \n",
    "        model_vals = phase_models[model][\"model_parameters\"]\n",
    "        _m = phase_models[model][\"model_name_short\"]\n",
    "        print(model_vals,_m)\n",
    "        model_vals = [m+_m for m in model_vals]\n",
    "        \n",
    "#         vals += model_vals\n",
    "        \n",
    "        adlerVals[filt][model] = model_vals\n",
    "        \n",
    "        print(len(vals))\n",
    "\n",
    "#         vals_out = []\n",
    "#         for v in vals:\n",
    "\n",
    "#             x = \"{}_{}_adler\".format(filt,v)\n",
    "#             print(x)\n",
    "\n",
    "#             vals_out.append(x)\n",
    "\n",
    "#         adlerVals[filt][model] = vals_out\n",
    "        \n",
    "    break"
   ]
  },
  {
   "cell_type": "code",
   "execution_count": null,
   "id": "72b27c11",
   "metadata": {},
   "outputs": [],
   "source": [
    "adlerVals"
   ]
  },
  {
   "cell_type": "code",
   "execution_count": null,
   "id": "23c55eef",
   "metadata": {},
   "outputs": [],
   "source": [
    "adlerVals.keys()"
   ]
  },
  {
   "cell_type": "code",
   "execution_count": null,
   "id": "cba80597",
   "metadata": {},
   "outputs": [],
   "source": [
    "x = {}\n",
    "x[filt] = {}\n",
    "x[filt][\"vals\"] = [\"min\",\"range\"]\n",
    "x[filt][\"HG\"] = [\"H\",\"G\"]"
   ]
  },
  {
   "cell_type": "code",
   "execution_count": null,
   "id": "37d10029",
   "metadata": {},
   "outputs": [],
   "source": [
    "x"
   ]
  },
  {
   "cell_type": "code",
   "execution_count": null,
   "id": "0fc29682",
   "metadata": {},
   "outputs": [],
   "source": [
    "df = pd.json_normalize(adlerVals, sep='_')"
   ]
  },
  {
   "cell_type": "code",
   "execution_count": null,
   "id": "09dc8aa4",
   "metadata": {},
   "outputs": [],
   "source": []
  }
 ],
 "metadata": {
  "kernelspec": {
   "display_name": "adler-dev",
   "language": "python",
   "name": "adler-dev"
  },
  "language_info": {
   "codemirror_mode": {
    "name": "ipython",
    "version": 3
   },
   "file_extension": ".py",
   "mimetype": "text/x-python",
   "name": "python",
   "nbconvert_exporter": "python",
   "pygments_lexer": "ipython3",
   "version": "3.10.13"
  }
 },
 "nbformat": 4,
 "nbformat_minor": 5
}
