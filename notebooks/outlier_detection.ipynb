{
 "cells": [
  {
   "cell_type": "code",
   "execution_count": null,
   "id": "f88d62a9",
   "metadata": {},
   "outputs": [],
   "source": [
    "from adler.dataclasses.AdlerPlanetoid import AdlerPlanetoid\n",
    "from adler.science.PhaseCurve import PhaseCurve\n",
    "from adler.dataclasses.AdlerData import AdlerData\n",
    "import adler.utilities.science_utilities as utils\n",
    "\n",
    "import numpy as np\n",
    "import pandas as pd\n",
    "import matplotlib.pyplot as plt\n",
    "import matplotlib.gridspec as gridspec\n",
    "import astropy.units as u"
   ]
  },
  {
   "cell_type": "code",
   "execution_count": null,
   "id": "86e657fe",
   "metadata": {},
   "outputs": [],
   "source": [
    "# ssObjectId of object to analyse\n",
    "ssoid = \"8268570668335894776\"\n",
    "\n",
    "# load object from local database\n",
    "fname = \"../tests/data/testing_database.db\"\n",
    "planetoid = AdlerPlanetoid.construct_from_SQL(ssoid, sql_filename=fname)\n",
    "\n",
    "# retrieve observations in the r filter\n",
    "obs_r = planetoid.observations_in_filter(\"r\")"
   ]
  },
  {
   "cell_type": "code",
   "execution_count": null,
   "id": "f4131a10",
   "metadata": {},
   "outputs": [],
   "source": [
    "# define the phase curve model using the SSObject data\n",
    "\n",
    "sso_r = planetoid.SSObject_in_filter(\"r\")\n",
    "r_H = sso_r.H\n",
    "r_G12 = sso_r.G12\n",
    "\n",
    "pc = PhaseCurve(abs_mag=r_H * u.mag, phase_param=r_G12, model_name=\"HG12_Pen16\")"
   ]
  },
  {
   "cell_type": "code",
   "execution_count": null,
   "id": "0f625b5a",
   "metadata": {},
   "outputs": [],
   "source": [
    "# calculate data - model residuals\n",
    "res = obs_r.reduced_mag - pc.ReducedMag(obs_r.phaseAngle * u.degree).value"
   ]
  },
  {
   "cell_type": "code",
   "execution_count": null,
   "id": "f573cce4",
   "metadata": {},
   "outputs": [],
   "source": [
    "# plot the observations with the SSObject phase curve\n",
    "x_plot = \"phaseAngle\"\n",
    "y_plot = \"reduced_mag\"\n",
    "\n",
    "x = getattr(obs_r, x_plot)\n",
    "y = getattr(obs_r, y_plot)\n",
    "xerr = obs_r.magErr\n",
    "\n",
    "fig = plt.figure()\n",
    "gs = gridspec.GridSpec(1, 1)\n",
    "ax1 = plt.subplot(gs[0, 0])\n",
    "\n",
    "ax1.errorbar(x, y, xerr, fmt=\"o\")\n",
    "\n",
    "# plot the phase curve model\n",
    "alpha = np.linspace(0, np.amax(obs_r.phaseAngle)) * u.deg\n",
    "red_mag = pc.ReducedMag(alpha)\n",
    "\n",
    "# legend label for the phase curve model\n",
    "pc_label = []\n",
    "for x in pc.model_function.param_names:\n",
    "    pc_label.append(\"{}={:.2f}\".format(x, getattr(pc.model_function, x).value))\n",
    "pc_label = \", \".join(pc_label)\n",
    "\n",
    "ax1.plot(alpha.value, red_mag.value, c=\"k\", label=pc_label)\n",
    "\n",
    "ax1.invert_yaxis()\n",
    "ax1.set_xlabel(x_plot)\n",
    "ax1.set_ylabel(y_plot)\n",
    "ax1.legend()\n",
    "\n",
    "plt.show()"
   ]
  },
  {
   "cell_type": "code",
   "execution_count": null,
   "id": "aee95371",
   "metadata": {},
   "outputs": [],
   "source": [
    "# plot the data - model residuals\n",
    "x_plot = \"phaseAngle\"\n",
    "\n",
    "x = getattr(obs_r, x_plot)\n",
    "xerr = obs_r.magErr\n",
    "\n",
    "fig = plt.figure()\n",
    "gs = gridspec.GridSpec(1, 1)\n",
    "ax1 = plt.subplot(gs[0, 0])\n",
    "\n",
    "ax1.errorbar(x, res, xerr, fmt=\"o\")\n",
    "\n",
    "ax1.axhline(0, c=\"k\")\n",
    "\n",
    "# indicate the standard deviations of the residuals\n",
    "res_std = np.std(res)\n",
    "for i in range(1, 4):\n",
    "    ax1.axhline(res_std * i, ls=\":\", c=\"C{}\".format(i), label=\"{} sigma\".format(i))\n",
    "    ax1.axhline(-res_std * i, ls=\":\", c=\"C{}\".format(i))\n",
    "\n",
    "ax1.invert_yaxis()\n",
    "ax1.set_xlabel(x_plot)\n",
    "ax1.set_ylabel(\"data - model\")\n",
    "ax1.legend()\n",
    "\n",
    "plt.show()"
   ]
  },
  {
   "cell_type": "code",
   "execution_count": null,
   "id": "16c712ff",
   "metadata": {},
   "outputs": [],
   "source": [
    "utils.sigma_clip(res, {\"cenfunc\": \"median\"})"
   ]
  },
  {
   "cell_type": "code",
   "execution_count": null,
   "id": "8983c9dd",
   "metadata": {},
   "outputs": [],
   "source": [
    "utils.sigma_clip(res)"
   ]
  },
  {
   "cell_type": "code",
   "execution_count": null,
   "id": "15bdb74e",
   "metadata": {},
   "outputs": [],
   "source": [
    "utils.outlier_std(res, res)"
   ]
  },
  {
   "cell_type": "code",
   "execution_count": null,
   "id": "4369f850",
   "metadata": {},
   "outputs": [],
   "source": [
    "df_obs_r = pd.DataFrame(obs_r.__dict__)\n",
    "df_obs_r = df_obs_r.sort_values(\"midpointMjdTai\")"
   ]
  },
  {
   "cell_type": "code",
   "execution_count": null,
   "id": "890a9eff",
   "metadata": {},
   "outputs": [],
   "source": [
    "df_obs_r"
   ]
  },
  {
   "cell_type": "code",
   "execution_count": null,
   "id": "c24dd432",
   "metadata": {},
   "outputs": [],
   "source": [
    "# step through all observations and check if photometry is outlying\n",
    "for i in range(1, len(df_obs_r) + 1):\n",
    "    #     print(df_obs_r.iloc[:i].index)\n",
    "    _df = df_obs_r.iloc[:i]\n",
    "\n",
    "    _res = _df[\"reduced_mag\"] - pc.ReducedMag(np.array(_df[\"phaseAngle\"]) * u.degree).value\n",
    "    #     print(_res)\n",
    "\n",
    "    #     print(utils.outlier_std(_res,res))\n",
    "    print(utils.outlier_std(_res, _res))"
   ]
  },
  {
   "cell_type": "code",
   "execution_count": null,
   "id": "2d21af47",
   "metadata": {},
   "outputs": [],
   "source": [
    "# step through all observations and check if new photometry is outlying\n",
    "\n",
    "fig = plt.figure()\n",
    "gs = gridspec.GridSpec(1, 1)\n",
    "ax1 = plt.subplot(gs[0, 0])\n",
    "\n",
    "for i in range(2, len(df_obs_r) + 1):\n",
    "    #     print(df_obs_r.iloc[:i].index)\n",
    "    _df = df_obs_r.iloc[:i]\n",
    "\n",
    "    _res = _df[\"reduced_mag\"] - pc.ReducedMag(np.array(_df[\"phaseAngle\"]) * u.degree).value\n",
    "    _res = np.array(_res)\n",
    "\n",
    "    #     print(_res)\n",
    "    #     print(np.delete(_res,-1),[_res[-1]])\n",
    "\n",
    "    outlier_flag = utils.outlier_std([_res[-1]], np.delete(_res, -1))\n",
    "    print(outlier_flag, np.abs(_res[-1]), 3 * np.std(np.delete(_res, -1)))\n",
    "\n",
    "    s1 = ax1.scatter(\n",
    "        _df.iloc[-1][\"phaseAngle\"],\n",
    "        _res[-1],\n",
    "        c=_df.iloc[-1][\"midpointMjdTai\"],\n",
    "        vmin=np.amin(df_obs_r[\"midpointMjdTai\"]),\n",
    "        vmax=np.amax(df_obs_r[\"midpointMjdTai\"]),\n",
    "    )\n",
    "\n",
    "    if outlier_flag[0]:\n",
    "        ax1.scatter(_df.iloc[-1][\"phaseAngle\"], _res[-1], c=\"r\", marker=\"x\")\n",
    "\n",
    "ax1.axhline(0, c=\"k\")\n",
    "plt.colorbar(s1)\n",
    "ax1.invert_yaxis()\n",
    "\n",
    "plt.show()"
   ]
  },
  {
   "cell_type": "code",
   "execution_count": null,
   "id": "d4231b25",
   "metadata": {},
   "outputs": [],
   "source": [
    "# step through all observations and check if new photometry is outlying\n",
    "\n",
    "fig = plt.figure()\n",
    "gs = gridspec.GridSpec(1, 1)\n",
    "ax1 = plt.subplot(gs[0, 0])\n",
    "\n",
    "std_list = []\n",
    "for i in range(2, len(df_obs_r) + 1):\n",
    "    #     print(df_obs_r.iloc[:i].index)\n",
    "    _df = df_obs_r.iloc[:i]\n",
    "\n",
    "    _res = _df[\"reduced_mag\"] - pc.ReducedMag(np.array(_df[\"phaseAngle\"]) * u.degree).value\n",
    "    _res = np.array(_res)\n",
    "\n",
    "    #     print(_res)\n",
    "    #     print(np.delete(_res,-1),[_res[-1]])\n",
    "\n",
    "    outlier_flag = utils.outlier_std([_res[-1]], np.delete(_res, -1))\n",
    "    print(outlier_flag, np.abs(_res[-1]), 3 * np.std(np.delete(_res, -1)))\n",
    "\n",
    "    s1 = ax1.scatter(\n",
    "        _df.iloc[-1][\"midpointMjdTai\"],\n",
    "        _res[-1],\n",
    "        c=_df.iloc[-1][\"phaseAngle\"],\n",
    "        vmin=np.amin(df_obs_r[\"phaseAngle\"]),\n",
    "        vmax=np.amax(df_obs_r[\"phaseAngle\"]),\n",
    "    )\n",
    "\n",
    "    if outlier_flag[0]:\n",
    "        ax1.scatter(_df.iloc[-1][\"midpointMjdTai\"], _res[-1], c=\"r\", marker=\"x\")\n",
    "\n",
    "    std_list.append(np.std(np.delete(_res, -1)))\n",
    "\n",
    "std_list = np.array(std_list)\n",
    "\n",
    "ax1.plot(np.array(df_obs_r[\"midpointMjdTai\"])[1:], std_list * 3)\n",
    "\n",
    "ax1.axhline(0, c=\"k\")\n",
    "plt.colorbar(s1)\n",
    "ax1.invert_yaxis()\n",
    "\n",
    "plt.show()"
   ]
  },
  {
   "cell_type": "code",
   "execution_count": null,
   "id": "8910801b",
   "metadata": {},
   "outputs": [],
   "source": [
    "std_list"
   ]
  },
  {
   "cell_type": "code",
   "execution_count": null,
   "id": "46e31e45",
   "metadata": {},
   "outputs": [],
   "source": [
    "df_obs_r[\"midpointMjdTai\"]"
   ]
  },
  {
   "cell_type": "code",
   "execution_count": null,
   "id": "64e2f5bc",
   "metadata": {},
   "outputs": [],
   "source": [
    "# consider the residual compared to the uncertainty"
   ]
  },
  {
   "cell_type": "code",
   "execution_count": null,
   "id": "3f8cc586",
   "metadata": {},
   "outputs": [],
   "source": [
    "# plot the data - model residuals\n",
    "x_plot = \"phaseAngle\"\n",
    "\n",
    "x = getattr(obs_r, x_plot)\n",
    "xerr = obs_r.magErr\n",
    "\n",
    "fig = plt.figure()\n",
    "gs = gridspec.GridSpec(1, 1)\n",
    "ax1 = plt.subplot(gs[0, 0])\n",
    "\n",
    "ax1.errorbar(x, res, xerr, fmt=\"o\")\n",
    "\n",
    "ax1.axhline(0, c=\"k\")\n",
    "\n",
    "# indicate the standard deviations of the residuals\n",
    "res_std = np.std(res)\n",
    "for i in range(1, 4):\n",
    "    ax1.axhline(res_std * i, ls=\":\", c=\"C{}\".format(i), label=\"{} sigma\".format(i))\n",
    "    ax1.axhline(-res_std * i, ls=\":\", c=\"C{}\".format(i))\n",
    "\n",
    "std_err = 5\n",
    "mask = np.abs(res) > (std_err * xerr)\n",
    "ax1.scatter(x[mask], res[mask], c=\"r\", marker=\"x\", zorder=3)\n",
    "\n",
    "mask2 = utils.outlier_sigma_diff(res, xerr, std_err)\n",
    "ax1.scatter(x[mask], res[mask], edgecolor=\"r\", facecolor=\"none\", marker=\"o\", zorder=3)\n",
    "\n",
    "ax1.invert_yaxis()\n",
    "ax1.set_xlabel(x_plot)\n",
    "ax1.set_ylabel(\"data - model\")\n",
    "ax1.legend()\n",
    "\n",
    "plt.show()"
   ]
  },
  {
   "cell_type": "code",
   "execution_count": null,
   "id": "8c935b03",
   "metadata": {},
   "outputs": [],
   "source": [
    "# in general the residuals can be much larger than the photometric uncertainty"
   ]
  },
  {
   "cell_type": "code",
   "execution_count": null,
   "id": "ad0e0c40",
   "metadata": {},
   "outputs": [],
   "source": [
    "res"
   ]
  },
  {
   "cell_type": "code",
   "execution_count": null,
   "id": "3ce23237",
   "metadata": {},
   "outputs": [],
   "source": [
    "xerr"
   ]
  },
  {
   "cell_type": "code",
   "execution_count": null,
   "id": "bcccc758",
   "metadata": {},
   "outputs": [],
   "source": []
  }
 ],
 "metadata": {
  "kernelspec": {
   "display_name": "adler-dev",
   "language": "python",
   "name": "adler-dev"
  },
  "language_info": {
   "codemirror_mode": {
    "name": "ipython",
    "version": 3
   },
   "file_extension": ".py",
   "mimetype": "text/x-python",
   "name": "python",
   "nbconvert_exporter": "python",
   "pygments_lexer": "ipython3",
   "version": "3.10.13"
  }
 },
 "nbformat": 4,
 "nbformat_minor": 5
}
