{
 "cells": [
  {
   "cell_type": "code",
   "execution_count": 1,
   "id": "d591f5d8-9148-46ff-a62b-0f2a29eb806c",
   "metadata": {
    "execution": {
     "iopub.execute_input": "2024-02-29T13:58:00.064543Z",
     "iopub.status.busy": "2024-02-29T13:58:00.064107Z",
     "iopub.status.idle": "2024-02-29T13:58:01.636895Z",
     "shell.execute_reply": "2024-02-29T13:58:01.635972Z",
     "shell.execute_reply.started": "2024-02-29T13:58:00.064516Z"
    }
   },
   "outputs": [],
   "source": [
    "from adler.dataclasses.AdlerPlanetoid import AdlerPlanetoid\n",
    "from adler.science.PhaseCurve import PhaseCurve\n",
    "\n",
    "import numpy as np\n",
    "import matplotlib.pyplot as plt\n",
    "import matplotlib.gridspec as gridspec\n",
    "import astropy.units as u\n"
   ]
  },
  {
   "cell_type": "code",
   "execution_count": 2,
   "id": "645efb98-567d-481e-a79c-b1cfdc828726",
   "metadata": {
    "execution": {
     "iopub.execute_input": "2024-02-29T13:58:01.638850Z",
     "iopub.status.busy": "2024-02-29T13:58:01.637982Z",
     "iopub.status.idle": "2024-02-29T13:58:01.642608Z",
     "shell.execute_reply": "2024-02-29T13:58:01.641792Z",
     "shell.execute_reply.started": "2024-02-29T13:58:01.638819Z"
    }
   },
   "outputs": [],
   "source": [
    "# ssObjectId of object to analyse\n",
    "ssoid = \"8268570668335894776\""
   ]
  },
  {
   "cell_type": "code",
   "execution_count": 3,
   "id": "10b36aab-b322-49b8-8ff3-49bef68d7416",
   "metadata": {
    "execution": {
     "iopub.execute_input": "2024-02-29T13:58:01.643793Z",
     "iopub.status.busy": "2024-02-29T13:58:01.643545Z",
     "iopub.status.idle": "2024-02-29T13:58:02.777149Z",
     "shell.execute_reply": "2024-02-29T13:58:02.776163Z",
     "shell.execute_reply.started": "2024-02-29T13:58:01.643771Z"
    }
   },
   "outputs": [
    {
     "name": "stderr",
     "output_type": "stream",
     "text": [
      "/home/jrob/adler/src/adler/dataclasses/DataSchema.py:34: UserWarning: Warning: converting a masked element to nan.\n",
      "  return float(self.data_table[column_name][0])\n"
     ]
    }
   ],
   "source": [
    "# retrieve the object data via adler\n",
    "planetoid = AdlerPlanetoid(ssoid)"
   ]
  },
  {
   "cell_type": "code",
   "execution_count": 4,
   "id": "d9a0623d-0dc7-49c1-99dd-a76ef970a3ff",
   "metadata": {
    "execution": {
     "iopub.execute_input": "2024-02-29T13:58:02.778637Z",
     "iopub.status.busy": "2024-02-29T13:58:02.778367Z",
     "iopub.status.idle": "2024-02-29T13:58:02.794141Z",
     "shell.execute_reply": "2024-02-29T13:58:02.793251Z",
     "shell.execute_reply.started": "2024-02-29T13:58:02.778613Z"
    },
    "scrolled": true
   },
   "outputs": [
    {
     "data": {
      "text/plain": [
       "{'ssObjectId': '8268570668335894776',\n",
       " 'sql_query': \"\\n            SELECT\\n                ssObject.ssObjectId, mag, magErr, band, midpointMjdTai as mjd, ra, dec, phaseAngle,\\n                topocentricDist, heliocentricDist\\n            FROM\\n                dp03_catalogs_10yr.ssObject\\n                JOIN dp03_catalogs_10yr.diaSource ON dp03_catalogs_10yr.ssObject.ssObjectId   = dp03_catalogs_10yr.diaSource.ssObjectId\\n                JOIN dp03_catalogs_10yr.ssSource  ON dp03_catalogs_10yr.diaSource.diaSourceId = dp03_catalogs_10yr.ssSource.diaSourceId\\n            WHERE\\n                ssObject.ssObjectId = 8268570668335894776 and band='r'\\n            \",\n",
       " 'service': <pyvo.dal.tap.TAPService at 0x7cf0e13e1db0>,\n",
       " 'data_table': <Table length=38>\n",
       "      ssObjectId       mag    magErr ... topocentricDist heliocentricDist\n",
       "                                     ...        AU              AU       \n",
       "        int64        float32 float32 ...     float32         float32     \n",
       " ------------------- ------- ------- ... --------------- ----------------\n",
       " 8268570668335894776  23.522   0.163 ...       1.4200809        2.2182078\n",
       " 8268570668335894776  23.933   0.351 ...        1.673502        1.8633804\n",
       " 8268570668335894776  23.742     0.2 ...       1.8374033        1.9377198\n",
       " 8268570668335894776   22.44   0.046 ...       1.0358349        1.7923788\n",
       " 8268570668335894776  22.179   0.042 ...       0.8584717        1.5282809\n",
       " 8268570668335894776   22.39     0.1 ...       0.9861143        1.6029718\n",
       " 8268570668335894776  23.568   0.172 ...       1.5848765        1.9770172\n",
       " 8268570668335894776  22.924   0.116 ...       1.2739334        1.6663356\n",
       " 8268570668335894776  22.262   0.051 ...      0.99954176        1.7732488\n",
       "                 ...     ...     ... ...             ...              ...\n",
       " 8268570668335894776  22.248   0.046 ...      0.93472457        1.6602533\n",
       " 8268570668335894776  22.445   0.098 ...        0.986064        1.6029434\n",
       " 8268570668335894776  21.986   0.049 ...       0.6861022        1.2940885\n",
       " 8268570668335894776  22.249   0.036 ...      0.96172243        1.7529303\n",
       " 8268570668335894776  22.698   0.063 ...       1.0843298        1.7405357\n",
       " 8268570668335894776  23.702   0.248 ...       1.5928001        2.5560288\n",
       " 8268570668335894776  22.229   0.264 ...      0.20776999        0.8767123\n",
       " 8268570668335894776  22.276    0.06 ...      0.95206416          1.66985\n",
       " 8268570668335894776  23.068   0.211 ...       1.5636572        2.5446959\n",
       " 8268570668335894776  22.143   0.057 ...       0.9247384        1.7326578,\n",
       " 'mag': array([23.522, 23.933, 23.742, 22.44 , 22.179, 22.39 , 23.568, 22.924,\n",
       "        22.262, 21.914, 22.094, 22.291, 24.242, 21.728, 22.168, 21.722,\n",
       "        21.615, 21.759, 22.285, 21.789, 24.195, 22.049, 21.959, 23.702,\n",
       "        22.662, 20.447, 22.177, 22.887, 22.248, 22.445, 21.986, 22.249,\n",
       "        22.698, 23.702, 22.229, 22.276, 23.068, 22.143], dtype=float32),\n",
       " 'magErr': array([0.163, 0.351, 0.2  , 0.046, 0.042, 0.1  , 0.172, 0.116, 0.051,\n",
       "        0.095, 0.047, 0.082, 0.383, 0.038, 0.034, 0.034, 0.036, 0.07 ,\n",
       "        0.054, 0.052, 0.17 , 0.283, 0.06 , 0.199, 0.083, 0.011, 0.316,\n",
       "        0.182, 0.046, 0.098, 0.049, 0.036, 0.063, 0.248, 0.264, 0.06 ,\n",
       "        0.211, 0.057], dtype=float32),\n",
       " 'mjd': array([61052.13729, 63554.05676, 63562.05437, 60230.03315, 62415.05691,\n",
       "        62422.06596, 61355.02232, 63534.03975, 60228.08066, 63492.00291,\n",
       "        63502.00311, 61326.03134, 62095.28873, 62407.07445, 60224.07621,\n",
       "        62407.09369, 62406.09011, 63479.0044 , 60228.0802 , 62412.12365,\n",
       "        60264.01472, 61253.96744, 62414.13572, 61355.02277, 61329.00043,\n",
       "        61294.15865, 61253.96433, 62125.2233 , 61322.07319, 62422.06327,\n",
       "        63500.06856, 60226.02382, 61330.01524, 63217.23761, 61253.97055,\n",
       "        61323.00925, 62113.17449, 60223.98877]),\n",
       " 'ra': array([ 62.6767601, 322.0860789, 325.868688 , 323.9242256, 304.7993288,\n",
       "        309.1190487, 327.0967385, 311.280946 , 323.5373434, 268.4639755,\n",
       "        283.7424099, 316.7793075,  81.7128501, 298.9437966, 322.7931457,\n",
       "        298.9592036, 298.1255196, 239.848597 , 323.5372789, 302.7875618,\n",
       "        332.3781914, 170.4247983, 304.1818652, 327.0968451, 317.8804823,\n",
       "        301.5682143, 170.4172297,  69.233718 , 315.2799036, 309.1175392,\n",
       "        281.1782352, 323.1475474, 318.2527231,  68.4459325, 170.4323598,\n",
       "        315.6390597,  74.6917865, 322.7789008]),\n",
       " 'dec': array([ 27.0535373, -12.3090787, -11.0256047, -10.5571517, -17.0169932,\n",
       "        -15.8743016, -10.035292 , -15.6284188, -10.6693695, -22.9543395,\n",
       "        -21.5140075, -13.2712987,  29.563878 , -18.443366 , -10.8850457,\n",
       "        -18.4396764, -18.6306791, -21.8243507, -10.6694075, -17.5230447,\n",
       "         -7.9025949,  -3.6513877, -17.1737751, -10.0351984, -12.9420707,\n",
       "        -17.709034 ,  -3.6478445,  28.6462634, -13.7156598, -15.874741 ,\n",
       "        -21.8517282, -10.7825671, -12.8300092,  28.5344673,  -3.6550378,\n",
       "        -13.6098197,  29.3204275, -10.889507 ]),\n",
       " 'phaseAngle': array([ 18.636665 ,  31.88497  ,  30.160686 ,  27.637327 ,  37.81433  ,\n",
       "         36.348026 ,  29.765968 ,  36.50101  ,  27.429834 ,  56.708397 ,\n",
       "         48.8024   ,  31.867077 ,   9.175689 ,  39.98022  ,  26.91216  ,\n",
       "         39.974342 ,  40.30449  ,  72.76689  ,  27.429777 ,  38.530846 ,\n",
       "         27.739908 , 126.787056 ,  38.031944 ,  29.765924 ,  31.74269  ,\n",
       "         33.562683 , 126.79137  ,   7.0533433,  32.005596 ,  36.34851  ,\n",
       "         50.079884 ,  27.178923 ,  31.696053 ,   5.731951 , 126.78273  ,\n",
       "         31.974665 ,   2.5533326,  26.898243 ], dtype=float32),\n",
       " 'topocentricDist': array([1.4200809 , 1.673502  , 1.8374033 , 1.0358349 , 0.8584717 ,\n",
       "        0.9861143 , 1.5848765 , 1.2739334 , 0.99954176, 0.58142245,\n",
       "        0.7141255 , 1.0085962 , 1.7333832 , 0.7201695 , 0.9263163 ,\n",
       "        0.72049457, 0.70371586, 0.4728923 , 0.99953324, 0.806705  ,\n",
       "        1.7147071 , 0.20780498, 0.8421095 , 1.5848858 , 1.064913  ,\n",
       "        0.45957258, 0.20783997, 1.5073341 , 0.93472457, 0.986064  ,\n",
       "        0.6861022 , 0.96172243, 1.0843298 , 1.5928001 , 0.20776999,\n",
       "        0.95206416, 1.5636572 , 0.9247384 ], dtype=float32),\n",
       " 'heliocentricDist': array([2.2182078 , 1.8633804 , 1.9377198 , 1.7923788 , 1.5282809 ,\n",
       "        1.6029718 , 1.9770172 , 1.6663356 , 1.7732488 , 1.1989769 ,\n",
       "        1.3165528 , 1.700587  , 2.6598191 , 1.440692  , 1.7335323 ,\n",
       "        1.4409063 , 1.4297057 , 1.0418874 , 1.7732443 , 1.4964073 ,\n",
       "        2.1019201 , 0.8766754 , 1.5183101 , 1.9770212 , 1.730421  ,\n",
       "        1.3572357 , 0.87663853, 2.462233  , 1.6602533 , 1.6029434 ,\n",
       "        1.2940885 , 1.7529303 , 1.7405357 , 2.5560288 , 0.8767123 ,\n",
       "        1.66985   , 2.5446959 , 1.7326578 ], dtype=float32),\n",
       " 'reduced_mag': array([21.030422, 21.463362, 20.984524, 21.0964  , 21.589355, 21.395733,\n",
       "        21.08797 , 21.289454, 21.019146, 22.697487, 22.227936, 21.11942 ,\n",
       "        20.923267, 21.647972, 21.139544, 21.640667, 21.60178 , 23.296085,\n",
       "        21.042171, 21.380177, 21.410969, 25.746527, 21.425354, 21.221952,\n",
       "        21.334671, 21.471954, 25.874252, 20.039307, 21.293709, 21.450884,\n",
       "        22.244236, 21.11493 , 21.318779, 20.653364, 25.9268  , 21.269281,\n",
       "        20.069113, 21.11934 ], dtype=float32)}"
      ]
     },
     "execution_count": 4,
     "metadata": {},
     "output_type": "execute_result"
    }
   ],
   "source": [
    "# inspect the object\n",
    "# dir(planetoid.Observations)\n",
    "planetoid.Observations.__dict__"
   ]
  },
  {
   "cell_type": "code",
   "execution_count": 5,
   "id": "b226fefa-a252-40d2-925e-549eee16858e",
   "metadata": {
    "execution": {
     "iopub.execute_input": "2024-02-29T13:58:02.797449Z",
     "iopub.status.busy": "2024-02-29T13:58:02.796971Z",
     "iopub.status.idle": "2024-02-29T13:58:02.813977Z",
     "shell.execute_reply": "2024-02-29T13:58:02.813007Z",
     "shell.execute_reply.started": "2024-02-29T13:58:02.797420Z"
    }
   },
   "outputs": [
    {
     "data": {
      "text/plain": [
       "array([ 18.636665 ,  31.88497  ,  30.160686 ,  27.637327 ,  37.81433  ,\n",
       "        36.348026 ,  29.765968 ,  36.50101  ,  27.429834 ,  56.708397 ,\n",
       "        48.8024   ,  31.867077 ,   9.175689 ,  39.98022  ,  26.91216  ,\n",
       "        39.974342 ,  40.30449  ,  72.76689  ,  27.429777 ,  38.530846 ,\n",
       "        27.739908 , 126.787056 ,  38.031944 ,  29.765924 ,  31.74269  ,\n",
       "        33.562683 , 126.79137  ,   7.0533433,  32.005596 ,  36.34851  ,\n",
       "        50.079884 ,  27.178923 ,  31.696053 ,   5.731951 , 126.78273  ,\n",
       "        31.974665 ,   2.5533326,  26.898243 ], dtype=float32)"
      ]
     },
     "execution_count": 5,
     "metadata": {},
     "output_type": "execute_result"
    }
   ],
   "source": [
    "getattr(planetoid.Observations,\"phaseAngle\")"
   ]
  },
  {
   "cell_type": "code",
   "execution_count": 6,
   "id": "9d7dc125-06c1-49ad-8854-17d8c8b6954f",
   "metadata": {
    "execution": {
     "iopub.execute_input": "2024-02-29T13:58:02.815525Z",
     "iopub.status.busy": "2024-02-29T13:58:02.815227Z",
     "iopub.status.idle": "2024-02-29T13:58:03.008493Z",
     "shell.execute_reply": "2024-02-29T13:58:03.007542Z",
     "shell.execute_reply.started": "2024-02-29T13:58:02.815500Z"
    }
   },
   "outputs": [
    {
     "data": {
      "image/png": "[encoded data removed]",
      "text/plain": [
       "<Figure size 640x480 with 1 Axes>"
      ]
     },
     "metadata": {},
     "output_type": "display_data"
    }
   ],
   "source": [
    "# plot the observations\n",
    "x_plot = \"phaseAngle\"\n",
    "y_plot = \"reduced_mag\"\n",
    "\n",
    "x = getattr(planetoid.Observations, x_plot)\n",
    "y = getattr(planetoid.Observations,y_plot)\n",
    "xerr = planetoid.Observations.magErr\n",
    "\n",
    "fig = plt.figure()\n",
    "gs = gridspec.GridSpec(1, 1)\n",
    "ax1 = plt.subplot(gs[0,0])\n",
    "\n",
    "ax1.errorbar(x,y,xerr, fmt = \"o\")\n",
    "\n",
    "ax1.invert_yaxis()\n",
    "ax1.set_xlabel(x_plot)\n",
    "ax1.set_ylabel(y_plot)\n",
    "\n",
    "plt.show()"
   ]
  },
  {
   "cell_type": "code",
   "execution_count": 7,
   "id": "6efe3b5a-09dd-4d5e-9f41-20ea6e1b43df",
   "metadata": {
    "execution": {
     "iopub.execute_input": "2024-02-29T13:58:03.009996Z",
     "iopub.status.busy": "2024-02-29T13:58:03.009720Z",
     "iopub.status.idle": "2024-02-29T13:58:03.017850Z",
     "shell.execute_reply": "2024-02-29T13:58:03.017046Z",
     "shell.execute_reply.started": "2024-02-29T13:58:03.009973Z"
    }
   },
   "outputs": [
    {
     "name": "stderr",
     "output_type": "stream",
     "text": [
      "/home/jrob/.conda/envs/adler-dev/lib/python3.10/site-packages/sbpy/photometry/iau.py:50: InvalidPhaseFunctionWarning: G12 parameter could result in an invalid phsae function\n",
      "  warnings.warn(msg, exception)\n"
     ]
    }
   ],
   "source": [
    "# define the phase curve\n",
    "pc = PhaseCurve(abs_mag = planetoid.SSObject.r_H * u.mag,\n",
    "                phase_param  = planetoid.SSObject.r_G12,\n",
    "                model_name = \"HG12_Pen16\")"
   ]
  },
  {
   "cell_type": "code",
   "execution_count": 8,
   "id": "80f552f1-8907-4cc9-b57c-2e667eab459c",
   "metadata": {
    "execution": {
     "iopub.execute_input": "2024-02-29T13:58:03.019427Z",
     "iopub.status.busy": "2024-02-29T13:58:03.019140Z",
     "iopub.status.idle": "2024-02-29T13:58:03.038779Z",
     "shell.execute_reply": "2024-02-29T13:58:03.037777Z",
     "shell.execute_reply.started": "2024-02-29T13:58:03.019404Z"
    }
   },
   "outputs": [
    {
     "data": {
      "text/plain": [
       "<HG12_Pen16(H=19.80589294 mag, G12=1.52932608)>"
      ]
     },
     "execution_count": 8,
     "metadata": {},
     "output_type": "execute_result"
    }
   ],
   "source": [
    "pc.model_function"
   ]
  },
  {
   "cell_type": "code",
   "execution_count": 9,
   "id": "24c1955e-95cd-4d77-ad05-aa5b8d18620a",
   "metadata": {
    "execution": {
     "iopub.execute_input": "2024-02-29T13:58:03.040252Z",
     "iopub.status.busy": "2024-02-29T13:58:03.039969Z",
     "iopub.status.idle": "2024-02-29T13:58:03.060967Z",
     "shell.execute_reply": "2024-02-29T13:58:03.060089Z",
     "shell.execute_reply.started": "2024-02-29T13:58:03.040228Z"
    }
   },
   "outputs": [
    {
     "data": {
      "text/latex": [
       "$[0,~2.5875789,~5.1751578,~7.7627367,~10.350316,~12.937895,~15.525473,~18.113052,~20.700631,~23.28821,~25.875789,~28.463368,~31.050947,~33.638526,~36.226105,~38.813684,~41.401263,~43.988841,~46.57642,~49.163999,~51.751578,~54.339157,~56.926736,~59.514315,~62.101894,~64.689473,~67.277052,~69.864631,~72.452209,~75.039788,~77.627367,~80.214946,~82.802525,~85.390104,~87.977683,~90.565262,~93.152841,~95.74042,~98.327999,~100.91558,~103.50316,~106.09074,~108.67831,~111.26589,~113.85347,~116.44105,~119.02863,~121.61621,~124.20379,~126.79137] \\; \\mathrm{{}^{\\circ}}$"
      ],
      "text/plain": [
       "<Quantity [  0.        ,   2.58757891,   5.17515782,   7.76273673,\n",
       "            10.35031564,  12.93789455,  15.52547346,  18.11305237,\n",
       "            20.70063128,  23.28821019,  25.8757891 ,  28.46336801,\n",
       "            31.05094692,  33.63852583,  36.22610474,  38.81368365,\n",
       "            41.40126256,  43.98884147,  46.57642038,  49.16399929,\n",
       "            51.75157819,  54.3391571 ,  56.92673601,  59.51431492,\n",
       "            62.10189383,  64.68947274,  67.27705165,  69.86463056,\n",
       "            72.45220947,  75.03978838,  77.62736729,  80.2149462 ,\n",
       "            82.80252511,  85.39010402,  87.97768293,  90.56526184,\n",
       "            93.15284075,  95.74041966,  98.32799857, 100.91557748,\n",
       "           103.50315639, 106.0907353 , 108.67831421, 111.26589312,\n",
       "           113.85347203, 116.44105094, 119.02862985, 121.61620876,\n",
       "           124.20378767, 126.79136658] deg>"
      ]
     },
     "execution_count": 9,
     "metadata": {},
     "output_type": "execute_result"
    }
   ],
   "source": [
    "alpha = np.linspace(0,np.amax(planetoid.Observations.phaseAngle)) * u.deg\n",
    "alpha"
   ]
  },
  {
   "cell_type": "code",
   "execution_count": 10,
   "id": "c3f30fe0-0d89-4ffa-8237-9c71181d44ee",
   "metadata": {
    "execution": {
     "iopub.execute_input": "2024-02-29T13:58:03.062362Z",
     "iopub.status.busy": "2024-02-29T13:58:03.062068Z",
     "iopub.status.idle": "2024-02-29T13:58:03.082782Z",
     "shell.execute_reply": "2024-02-29T13:58:03.081742Z",
     "shell.execute_reply.started": "2024-02-29T13:58:03.062339Z"
    }
   },
   "outputs": [
    {
     "data": {
      "text/latex": [
       "$[19.805893,~19.920355,~20.052052,~20.202895,~20.360566,~20.513141,~20.658458,~20.794601,~20.920251,~21.035105,~21.140282,~21.238644,~21.334969,~21.432803,~21.532351,~21.633562,~21.736362,~21.840655,~21.946316,~22.053192,~22.161093,~22.2698,~22.379056,~22.488576,~22.598035,~22.706974,~22.814826,~22.920961,~23.024702,~23.12535,~23.222222,~23.314692,~23.402255,~23.484581,~23.561579,~23.633452,~23.700294,~23.761468,~23.816277,~23.864116,~23.904505,~23.937131,~23.961868,~23.978792,~23.988178,~23.990477,~23.986295,~23.97653,~23.964571,~23.955435] \\; \\mathrm{mag}$"
      ],
      "text/plain": [
       "<Quantity [19.80589295, 19.92035462, 20.05205158, 20.20289499, 20.36056619,\n",
       "           20.51314093, 20.6584576 , 20.79460082, 20.92025081, 21.03510523,\n",
       "           21.14028241, 21.23864429, 21.33496854, 21.4328029 , 21.53235116,\n",
       "           21.63356172, 21.73636196, 21.84065497, 21.94631645, 22.05319171,\n",
       "           22.16109332, 22.26979979, 22.37905599, 22.48857609, 22.59803543,\n",
       "           22.70697432, 22.81482593, 22.92096063, 23.02470165, 23.12535025,\n",
       "           23.22222176, 23.31469242, 23.40225513, 23.48458066, 23.56157882,\n",
       "           23.6334516 , 23.70029421, 23.761468  , 23.81627732, 23.86411552,\n",
       "           23.9045047 , 23.9371306 , 23.96186796, 23.97879245, 23.98817765,\n",
       "           23.99047722, 23.98629539, 23.97653042, 23.96457121, 23.95543471] mag>"
      ]
     },
     "execution_count": 10,
     "metadata": {},
     "output_type": "execute_result"
    }
   ],
   "source": [
    "red_mag = pc.ReducedMag(alpha)\n",
    "red_mag"
   ]
  },
  {
   "cell_type": "code",
   "execution_count": 11,
   "id": "04be98a1-e4dc-4216-bcd9-ef777f6053fb",
   "metadata": {
    "execution": {
     "iopub.execute_input": "2024-02-29T13:58:03.084410Z",
     "iopub.status.busy": "2024-02-29T13:58:03.084016Z",
     "iopub.status.idle": "2024-02-29T13:58:03.250587Z",
     "shell.execute_reply": "2024-02-29T13:58:03.249526Z",
     "shell.execute_reply.started": "2024-02-29T13:58:03.084385Z"
    }
   },
   "outputs": [
    {
     "data": {
      "image/png": "[encoded data removed]",
      "text/plain": [
       "<Figure size 640x480 with 1 Axes>"
      ]
     },
     "metadata": {},
     "output_type": "display_data"
    }
   ],
   "source": [
    "# %matplotlib widget\n",
    "\n",
    "# plot the observations with the LSST phase curve\n",
    "x_plot = \"phaseAngle\"\n",
    "y_plot = \"reduced_mag\"\n",
    "\n",
    "x = getattr(planetoid.Observations, x_plot)\n",
    "y = getattr(planetoid.Observations,y_plot)\n",
    "xerr = planetoid.Observations.magErr\n",
    "\n",
    "fig = plt.figure()\n",
    "gs = gridspec.GridSpec(1, 1)\n",
    "ax1 = plt.subplot(gs[0,0])\n",
    "\n",
    "ax1.errorbar(x,y,xerr, fmt = \"o\")\n",
    "\n",
    "ax1.plot(alpha.value,red_mag.value)\n",
    "\n",
    "ax1.invert_yaxis()\n",
    "ax1.set_xlabel(x_plot)\n",
    "ax1.set_ylabel(y_plot)\n",
    "\n",
    "plt.show()"
   ]
  },
  {
   "cell_type": "code",
   "execution_count": null,
   "id": "9815543d-6140-4bdb-8bad-8296994723f4",
   "metadata": {},
   "outputs": [],
   "source": []
  }
 ],
 "metadata": {
  "kernelspec": {
   "display_name": "adler-dev",
   "language": "python",
   "name": "adler-dev"
  },
  "language_info": {
   "codemirror_mode": {
    "name": "ipython",
    "version": 3
   },
   "file_extension": ".py",
   "mimetype": "text/x-python",
   "name": "python",
   "nbconvert_exporter": "python",
   "pygments_lexer": "ipython3",
   "version": "3.10.13"
  }
 },
 "nbformat": 4,
 "nbformat_minor": 5
}
