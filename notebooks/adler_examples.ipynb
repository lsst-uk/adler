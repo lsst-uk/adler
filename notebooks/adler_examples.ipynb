{
 "cells": [
  {
   "cell_type": "code",
   "execution_count": null,
   "id": "d591f5d8-9148-46ff-a62b-0f2a29eb806c",
   "metadata": {
    "execution": {
     "iopub.execute_input": "2024-02-29T13:14:39.474924Z",
     "iopub.status.busy": "2024-02-29T13:14:39.474411Z",
     "iopub.status.idle": "2024-02-29T13:14:40.937484Z",
     "shell.execute_reply": "2024-02-29T13:14:40.936715Z",
     "shell.execute_reply.started": "2024-02-29T13:14:39.474897Z"
    }
   },
   "outputs": [],
   "source": [
    "from adler.dataclasses.AdlerPlanetoid import AdlerPlanetoid\n",
    "from adler.science.PhaseCurve import PhaseCurve\n",
    "\n",
    "import numpy as np\n",
    "import matplotlib.pyplot as plt\n",
    "import matplotlib.gridspec as gridspec\n",
    "import astropy.units as u\n"
   ]
  },
  {
   "cell_type": "code",
   "execution_count": null,
   "id": "645efb98-567d-481e-a79c-b1cfdc828726",
   "metadata": {
    "execution": {
     "iopub.execute_input": "2024-02-29T13:14:40.939104Z",
     "iopub.status.busy": "2024-02-29T13:14:40.938517Z",
     "iopub.status.idle": "2024-02-29T13:14:40.942711Z",
     "shell.execute_reply": "2024-02-29T13:14:40.942008Z",
     "shell.execute_reply.started": "2024-02-29T13:14:40.939075Z"
    }
   },
   "outputs": [],
   "source": [
    "# ssObjectId of object to analyse\n",
    "ssoid = \"8268570668335894776\""
   ]
  },
  {
   "cell_type": "code",
   "execution_count": null,
   "id": "10b36aab-b322-49b8-8ff3-49bef68d7416",
   "metadata": {
    "execution": {
     "iopub.execute_input": "2024-02-29T13:14:40.943908Z",
     "iopub.status.busy": "2024-02-29T13:14:40.943672Z",
     "iopub.status.idle": "2024-02-29T13:14:42.102328Z",
     "shell.execute_reply": "2024-02-29T13:14:42.101569Z",
     "shell.execute_reply.started": "2024-02-29T13:14:40.943886Z"
    }
   },
   "outputs": [],
   "source": [
    "# retrieve the object data via adler\n",
    "planetoid = AdlerPlanetoid(ssoid)"
   ]
  },
  {
   "cell_type": "code",
   "execution_count": null,
   "id": "d9a0623d-0dc7-49c1-99dd-a76ef970a3ff",
   "metadata": {
    "execution": {
     "iopub.execute_input": "2024-02-29T13:14:42.103570Z",
     "iopub.status.busy": "2024-02-29T13:14:42.103319Z",
     "iopub.status.idle": "2024-02-29T13:14:42.116418Z",
     "shell.execute_reply": "2024-02-29T13:14:42.115723Z",
     "shell.execute_reply.started": "2024-02-29T13:14:42.103547Z"
    }
   },
   "outputs": [],
   "source": [
    "# inspect the object\n",
    "# dir(planetoid.Observations)\n",
    "planetoid.Observations.__dict__"
   ]
  },
  {
   "cell_type": "code",
   "execution_count": null,
   "id": "b226fefa-a252-40d2-925e-549eee16858e",
   "metadata": {
    "execution": {
     "iopub.execute_input": "2024-02-29T13:14:42.118915Z",
     "iopub.status.busy": "2024-02-29T13:14:42.118650Z",
     "iopub.status.idle": "2024-02-29T13:14:42.135245Z",
     "shell.execute_reply": "2024-02-29T13:14:42.134491Z",
     "shell.execute_reply.started": "2024-02-29T13:14:42.118892Z"
    }
   },
   "outputs": [],
   "source": [
    "getattr(planetoid.Observations,\"phaseAngle\")"
   ]
  },
  {
   "cell_type": "code",
   "execution_count": null,
   "id": "9d7dc125-06c1-49ad-8854-17d8c8b6954f",
   "metadata": {
    "execution": {
     "iopub.execute_input": "2024-02-29T13:14:42.136687Z",
     "iopub.status.busy": "2024-02-29T13:14:42.136408Z",
     "iopub.status.idle": "2024-02-29T13:14:42.327499Z",
     "shell.execute_reply": "2024-02-29T13:14:42.326677Z",
     "shell.execute_reply.started": "2024-02-29T13:14:42.136663Z"
    }
   },
   "outputs": [],
   "source": [
    "# plot the observations\n",
    "x_plot = \"phaseAngle\"\n",
    "y_plot = \"reduced_mag\"\n",
    "\n",
    "x = getattr(planetoid.Observations, x_plot)\n",
    "y = getattr(planetoid.Observations,y_plot)\n",
    "xerr = planetoid.Observations.magErr\n",
    "\n",
    "fig = plt.figure()\n",
    "gs = gridspec.GridSpec(1, 1)\n",
    "ax1 = plt.subplot(gs[0,0])\n",
    "\n",
    "ax1.errorbar(x,y,xerr, fmt = \"o\")\n",
    "\n",
    "ax1.invert_yaxis()\n",
    "ax1.set_xlabel(x_plot)\n",
    "ax1.set_ylabel(y_plot)\n",
    "\n",
    "plt.show()"
   ]
  },
  {
   "cell_type": "code",
   "execution_count": null,
   "id": "6efe3b5a-09dd-4d5e-9f41-20ea6e1b43df",
   "metadata": {
    "execution": {
     "iopub.execute_input": "2024-02-29T13:14:42.329124Z",
     "iopub.status.busy": "2024-02-29T13:14:42.328845Z",
     "iopub.status.idle": "2024-02-29T13:14:42.335238Z",
     "shell.execute_reply": "2024-02-29T13:14:42.334503Z",
     "shell.execute_reply.started": "2024-02-29T13:14:42.329100Z"
    }
   },
   "outputs": [],
   "source": [
    "# define the phase curve\n",
    "pc = PhaseCurve(abs_mag = planetoid.SSObject.r_H * u.mag,\n",
    "                phase_param  = planetoid.SSObject.r_G12,\n",
    "                model_name = \"HG12_Pen16\")"
   ]
  },
  {
   "cell_type": "code",
   "execution_count": null,
   "id": "80f552f1-8907-4cc9-b57c-2e667eab459c",
   "metadata": {
    "execution": {
     "iopub.execute_input": "2024-02-29T13:14:42.336659Z",
     "iopub.status.busy": "2024-02-29T13:14:42.336270Z",
     "iopub.status.idle": "2024-02-29T13:14:42.354637Z",
     "shell.execute_reply": "2024-02-29T13:14:42.353753Z",
     "shell.execute_reply.started": "2024-02-29T13:14:42.336622Z"
    }
   },
   "outputs": [],
   "source": [
    "pc.model_function"
   ]
  },
  {
   "cell_type": "code",
   "execution_count": null,
   "id": "24c1955e-95cd-4d77-ad05-aa5b8d18620a",
   "metadata": {
    "execution": {
     "iopub.execute_input": "2024-02-29T13:14:42.355955Z",
     "iopub.status.busy": "2024-02-29T13:14:42.355681Z",
     "iopub.status.idle": "2024-02-29T13:14:42.375422Z",
     "shell.execute_reply": "2024-02-29T13:14:42.374603Z",
     "shell.execute_reply.started": "2024-02-29T13:14:42.355929Z"
    }
   },
   "outputs": [],
   "source": [
    "alpha = np.linspace(0,np.amax(planetoid.Observations.phaseAngle)) * u.deg\n",
    "alpha"
   ]
  },
  {
   "cell_type": "code",
   "execution_count": null,
   "id": "c3f30fe0-0d89-4ffa-8237-9c71181d44ee",
   "metadata": {
    "execution": {
     "iopub.execute_input": "2024-02-29T13:14:42.376715Z",
     "iopub.status.busy": "2024-02-29T13:14:42.376441Z",
     "iopub.status.idle": "2024-02-29T13:14:42.395497Z",
     "shell.execute_reply": "2024-02-29T13:14:42.394647Z",
     "shell.execute_reply.started": "2024-02-29T13:14:42.376691Z"
    }
   },
   "outputs": [],
   "source": [
    "red_mag = pc.ReducedMag(alpha)\n",
    "red_mag"
   ]
  },
  {
   "cell_type": "code",
   "execution_count": null,
   "id": "04be98a1-e4dc-4216-bcd9-ef777f6053fb",
   "metadata": {
    "execution": {
     "iopub.execute_input": "2024-02-29T13:14:42.397129Z",
     "iopub.status.busy": "2024-02-29T13:14:42.396580Z",
     "iopub.status.idle": "2024-02-29T13:14:42.615666Z",
     "shell.execute_reply": "2024-02-29T13:14:42.615009Z",
     "shell.execute_reply.started": "2024-02-29T13:14:42.397102Z"
    }
   },
   "outputs": [],
   "source": [
    "%matplotlib widget\n",
    "\n",
    "# plot the observations with the LSST phase curve\n",
    "x_plot = \"phaseAngle\"\n",
    "y_plot = \"reduced_mag\"\n",
    "\n",
    "x = getattr(planetoid.Observations, x_plot)\n",
    "y = getattr(planetoid.Observations,y_plot)\n",
    "xerr = planetoid.Observations.magErr\n",
    "\n",
    "fig = plt.figure()\n",
    "gs = gridspec.GridSpec(1, 1)\n",
    "ax1 = plt.subplot(gs[0,0])\n",
    "\n",
    "ax1.errorbar(x,y,xerr, fmt = \"o\")\n",
    "\n",
    "ax1.plot(alpha.value,red_mag.value)\n",
    "\n",
    "ax1.invert_yaxis()\n",
    "ax1.set_xlabel(x_plot)\n",
    "ax1.set_ylabel(y_plot)\n",
    "\n",
    "plt.show()"
   ]
  },
  {
   "cell_type": "code",
   "execution_count": null,
   "id": "9815543d-6140-4bdb-8bad-8296994723f4",
   "metadata": {},
   "outputs": [],
   "source": []
  }
 ],
 "metadata": {
  "kernelspec": {
   "display_name": "adler-dev",
   "language": "python",
   "name": "adler-dev"
  },
  "language_info": {
   "codemirror_mode": {
    "name": "ipython",
    "version": 3
   },
   "file_extension": ".py",
   "mimetype": "text/x-python",
   "name": "python",
   "nbconvert_exporter": "python",
   "pygments_lexer": "ipython3",
   "version": "3.10.13"
  }
 },
 "nbformat": 4,
 "nbformat_minor": 5
}
