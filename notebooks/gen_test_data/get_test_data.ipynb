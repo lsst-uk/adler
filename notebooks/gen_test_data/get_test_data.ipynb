{
 "cells": [
  {
   "cell_type": "code",
   "execution_count": null,
   "id": "89353ba3-fef0-4e44-b5a7-cf84e8895e38",
   "metadata": {
    "execution": {
     "iopub.execute_input": "2024-05-16T15:51:14.755360Z",
     "iopub.status.busy": "2024-05-16T15:51:14.755141Z",
     "iopub.status.idle": "2024-05-16T15:51:15.288200Z",
     "shell.execute_reply": "2024-05-16T15:51:15.287602Z",
     "shell.execute_reply.started": "2024-05-16T15:51:14.755334Z"
    }
   },
   "outputs": [],
   "source": [
    "from lsst.rsp import get_tap_service\n",
    "import sqlite3\n",
    "import pandas as pd"
   ]
  },
  {
   "cell_type": "code",
   "execution_count": null,
   "id": "c8c661de-721c-4a8a-8950-d94a64a7e351",
   "metadata": {
    "execution": {
     "iopub.execute_input": "2024-05-16T15:51:15.289420Z",
     "iopub.status.busy": "2024-05-16T15:51:15.289027Z",
     "iopub.status.idle": "2024-05-16T15:51:15.344750Z",
     "shell.execute_reply": "2024-05-16T15:51:15.343937Z",
     "shell.execute_reply.started": "2024-05-16T15:51:15.289402Z"
    }
   },
   "outputs": [],
   "source": [
    "service = get_tap_service(\"ssotap\")"
   ]
  },
  {
   "cell_type": "code",
   "execution_count": null,
   "id": "0780edfd-b9a8-4d07-b12a-0fcc427661ef",
   "metadata": {
    "execution": {
     "iopub.execute_input": "2024-05-16T15:51:15.346184Z",
     "iopub.status.busy": "2024-05-16T15:51:15.345875Z",
     "iopub.status.idle": "2024-05-16T15:51:15.349520Z",
     "shell.execute_reply": "2024-05-16T15:51:15.348883Z",
     "shell.execute_reply.started": "2024-05-16T15:51:15.346166Z"
    }
   },
   "outputs": [],
   "source": [
    "db_fname = \"adler_demo_testing_database.db\""
   ]
  },
  {
   "cell_type": "code",
   "execution_count": null,
   "id": "43ed6219-d23f-4d84-9aa4-68420d43405a",
   "metadata": {
    "execution": {
     "iopub.execute_input": "2024-05-16T15:51:15.350467Z",
     "iopub.status.busy": "2024-05-16T15:51:15.350275Z",
     "iopub.status.idle": "2024-05-16T15:51:15.379422Z",
     "shell.execute_reply": "2024-05-16T15:51:15.378648Z",
     "shell.execute_reply.started": "2024-05-16T15:51:15.350451Z"
    }
   },
   "outputs": [],
   "source": [
    "cnx = sqlite3.connect(db_fname)"
   ]
  },
  {
   "cell_type": "code",
   "execution_count": null,
   "id": "816d8725-8cab-4f3b-b6e5-35cd2d85dc3a",
   "metadata": {
    "execution": {
     "iopub.execute_input": "2024-05-16T15:51:15.381062Z",
     "iopub.status.busy": "2024-05-16T15:51:15.380759Z",
     "iopub.status.idle": "2024-05-16T15:51:15.391441Z",
     "shell.execute_reply": "2024-05-16T15:51:15.390831Z",
     "shell.execute_reply.started": "2024-05-16T15:51:15.381043Z"
    }
   },
   "outputs": [],
   "source": [
    "# ssoid = 8268570668335894776\n",
    "ssoid_list = (8268570668335894776, 2150553186630, 3369984299447, 5992863104062, 6098332225018)\n",
    "\n",
    "test_id = 6098332225018\n",
    "fake_id = 6098332225018000"
   ]
  },
  {
   "cell_type": "code",
   "execution_count": null,
   "id": "24611019-4132-4c2b-9bef-f7253dd8b55e",
   "metadata": {
    "execution": {
     "iopub.execute_input": "2024-05-16T15:51:15.392395Z",
     "iopub.status.busy": "2024-05-16T15:51:15.392197Z",
     "iopub.status.idle": "2024-05-16T15:51:15.404246Z",
     "shell.execute_reply": "2024-05-16T15:51:15.403608Z",
     "shell.execute_reply.started": "2024-05-16T15:51:15.392379Z"
    }
   },
   "outputs": [],
   "source": [
    "filter_name = \"r\""
   ]
  },
  {
   "cell_type": "code",
   "execution_count": null,
   "id": "c596e3f0-7575-4aba-9b99-9f0a9ff953a5",
   "metadata": {
    "execution": {
     "iopub.execute_input": "2024-05-16T15:51:15.405208Z",
     "iopub.status.busy": "2024-05-16T15:51:15.405018Z",
     "iopub.status.idle": "2024-05-16T15:51:15.417036Z",
     "shell.execute_reply": "2024-05-16T15:51:15.416439Z",
     "shell.execute_reply.started": "2024-05-16T15:51:15.405193Z"
    }
   },
   "outputs": [],
   "source": [
    "# diasource_sql_query = f\"\"\"\n",
    "#             SELECT\n",
    "#                 *\n",
    "#             FROM\n",
    "#                 dp03_catalogs_10yr.diaSource\n",
    "#             WHERE\n",
    "#                 ssObjectId = {ssoid}\n",
    "#             \"\"\"\n",
    "diasource_sql_query = f\"\"\"\n",
    "            SELECT\n",
    "                *\n",
    "            FROM\n",
    "                dp03_catalogs_10yr.diaSource\n",
    "            WHERE\n",
    "                ssObjectId in {ssoid_list}\n",
    "            \"\"\""
   ]
  },
  {
   "cell_type": "code",
   "execution_count": null,
   "id": "641b82a5-3ffc-44fd-803a-e658a226a92d",
   "metadata": {
    "execution": {
     "iopub.execute_input": "2024-05-16T15:51:15.418000Z",
     "iopub.status.busy": "2024-05-16T15:51:15.417808Z",
     "iopub.status.idle": "2024-05-16T15:51:16.515888Z",
     "shell.execute_reply": "2024-05-16T15:51:16.515113Z",
     "shell.execute_reply.started": "2024-05-16T15:51:15.417985Z"
    }
   },
   "outputs": [],
   "source": [
    "diatable = service.search(diasource_sql_query).to_table().to_pandas()"
   ]
  },
  {
   "cell_type": "code",
   "execution_count": null,
   "id": "fbe7b23f-2061-4f39-aefb-34c5b53af238",
   "metadata": {
    "execution": {
     "iopub.execute_input": "2024-05-16T15:51:16.517125Z",
     "iopub.status.busy": "2024-05-16T15:51:16.516895Z",
     "iopub.status.idle": "2024-05-16T15:51:16.520739Z",
     "shell.execute_reply": "2024-05-16T15:51:16.520007Z",
     "shell.execute_reply.started": "2024-05-16T15:51:16.517107Z"
    }
   },
   "outputs": [],
   "source": [
    "# sssource_sql_query = f\"\"\"\n",
    "#             SELECT\n",
    "#                 *\n",
    "#             FROM\n",
    "#                 dp03_catalogs_10yr.SSSource\n",
    "#             WHERE\n",
    "#                 ssObjectId = {ssoid}\n",
    "#             \"\"\"\n",
    "sssource_sql_query = f\"\"\"\n",
    "            SELECT\n",
    "                *\n",
    "            FROM\n",
    "                dp03_catalogs_10yr.SSSource\n",
    "            WHERE\n",
    "                ssObjectId in {ssoid_list}\n",
    "            \"\"\""
   ]
  },
  {
   "cell_type": "code",
   "execution_count": null,
   "id": "0421e5a7-44d2-4955-8880-d8f009f18bb7",
   "metadata": {
    "execution": {
     "iopub.execute_input": "2024-05-16T15:51:16.521766Z",
     "iopub.status.busy": "2024-05-16T15:51:16.521540Z",
     "iopub.status.idle": "2024-05-16T15:51:16.830882Z",
     "shell.execute_reply": "2024-05-16T15:51:16.830256Z",
     "shell.execute_reply.started": "2024-05-16T15:51:16.521750Z"
    }
   },
   "outputs": [],
   "source": [
    "sssource_table = service.search(sssource_sql_query).to_table().to_pandas()"
   ]
  },
  {
   "cell_type": "code",
   "execution_count": null,
   "id": "64e8ae53-a487-4a0c-a6da-3dd4574dc6ca",
   "metadata": {
    "execution": {
     "iopub.execute_input": "2024-05-16T15:51:16.831911Z",
     "iopub.status.busy": "2024-05-16T15:51:16.831706Z",
     "iopub.status.idle": "2024-05-16T15:51:16.836035Z",
     "shell.execute_reply": "2024-05-16T15:51:16.835562Z",
     "shell.execute_reply.started": "2024-05-16T15:51:16.831896Z"
    }
   },
   "outputs": [],
   "source": [
    "sssource_table.columns"
   ]
  },
  {
   "cell_type": "code",
   "execution_count": null,
   "id": "874e3fab-d89e-42ba-8ccd-adefef1ee2d6",
   "metadata": {
    "execution": {
     "iopub.execute_input": "2024-05-16T15:51:16.836891Z",
     "iopub.status.busy": "2024-05-16T15:51:16.836665Z",
     "iopub.status.idle": "2024-05-16T15:51:16.848402Z",
     "shell.execute_reply": "2024-05-16T15:51:16.847922Z",
     "shell.execute_reply.started": "2024-05-16T15:51:16.836874Z"
    }
   },
   "outputs": [],
   "source": [
    "# ssobject_sql_query = f\"\"\"\n",
    "#             SELECT\n",
    "#                 *\n",
    "#             FROM\n",
    "#                 dp03_catalogs_10yr.SSObject\n",
    "#             WHERE\n",
    "#                 ssObjectId = {ssoid}\n",
    "#             \"\"\"\n",
    "ssobject_sql_query = f\"\"\"\n",
    "            SELECT\n",
    "                *\n",
    "            FROM\n",
    "                dp03_catalogs_10yr.SSObject\n",
    "            WHERE\n",
    "                ssObjectId in {ssoid_list}\n",
    "            \"\"\""
   ]
  },
  {
   "cell_type": "code",
   "execution_count": null,
   "id": "fb1935bf-71ba-41b7-a19f-0be50ccfa48c",
   "metadata": {
    "execution": {
     "iopub.execute_input": "2024-05-16T15:51:16.849227Z",
     "iopub.status.busy": "2024-05-16T15:51:16.849049Z",
     "iopub.status.idle": "2024-05-16T15:51:17.030419Z",
     "shell.execute_reply": "2024-05-16T15:51:17.029797Z",
     "shell.execute_reply.started": "2024-05-16T15:51:16.849213Z"
    }
   },
   "outputs": [],
   "source": [
    "ssobject_table = service.search(ssobject_sql_query).to_table().to_pandas()"
   ]
  },
  {
   "cell_type": "code",
   "execution_count": null,
   "id": "dac407b7-b86a-44cf-99d4-de8bc7e4a70f",
   "metadata": {
    "execution": {
     "iopub.execute_input": "2024-05-16T15:51:17.031516Z",
     "iopub.status.busy": "2024-05-16T15:51:17.031246Z",
     "iopub.status.idle": "2024-05-16T15:51:17.035610Z",
     "shell.execute_reply": "2024-05-16T15:51:17.035127Z",
     "shell.execute_reply.started": "2024-05-16T15:51:17.031499Z"
    }
   },
   "outputs": [],
   "source": [
    "ssobject_table.columns"
   ]
  },
  {
   "cell_type": "code",
   "execution_count": null,
   "id": "e6c8b5ed-cd14-4e7c-a0f0-39d2b628d224",
   "metadata": {
    "execution": {
     "iopub.execute_input": "2024-05-16T15:51:17.036469Z",
     "iopub.status.busy": "2024-05-16T15:51:17.036288Z",
     "iopub.status.idle": "2024-05-16T15:51:17.050233Z",
     "shell.execute_reply": "2024-05-16T15:51:17.049633Z",
     "shell.execute_reply.started": "2024-05-16T15:51:17.036455Z"
    }
   },
   "outputs": [],
   "source": [
    "ssobject_table[\"r_Ndata\"]"
   ]
  },
  {
   "cell_type": "code",
   "execution_count": null,
   "id": "ec6419b0-64d0-4056-9579-65085b35fa17",
   "metadata": {
    "execution": {
     "iopub.execute_input": "2024-05-16T15:51:17.051356Z",
     "iopub.status.busy": "2024-05-16T15:51:17.050979Z",
     "iopub.status.idle": "2024-05-16T15:51:17.062716Z",
     "shell.execute_reply": "2024-05-16T15:51:17.062172Z",
     "shell.execute_reply.started": "2024-05-16T15:51:17.051339Z"
    }
   },
   "outputs": [],
   "source": [
    "# mpcorb_sql_query = f\"\"\"\n",
    "#             SELECT\n",
    "#                 *\n",
    "#             FROM\n",
    "#                 dp03_catalogs_10yr.MPCORB\n",
    "#             WHERE\n",
    "#                 ssObjectId = {ssoid}\n",
    "#             \"\"\"\n",
    "mpcorb_sql_query = f\"\"\"\n",
    "            SELECT\n",
    "                *\n",
    "            FROM\n",
    "                dp03_catalogs_10yr.MPCORB\n",
    "            WHERE\n",
    "                ssObjectId in {ssoid_list}\n",
    "            \"\"\""
   ]
  },
  {
   "cell_type": "code",
   "execution_count": null,
   "id": "51e6994a-88ed-4b92-ba03-56aba4ec8066",
   "metadata": {
    "execution": {
     "iopub.execute_input": "2024-05-16T15:51:17.063608Z",
     "iopub.status.busy": "2024-05-16T15:51:17.063397Z",
     "iopub.status.idle": "2024-05-16T15:51:17.233428Z",
     "shell.execute_reply": "2024-05-16T15:51:17.232820Z",
     "shell.execute_reply.started": "2024-05-16T15:51:17.063570Z"
    }
   },
   "outputs": [],
   "source": [
    "mpcorb_table = service.search(mpcorb_sql_query).to_table().to_pandas()"
   ]
  },
  {
   "cell_type": "code",
   "execution_count": null,
   "id": "c356b4b3-5da8-417c-93b4-106ee0899e6f",
   "metadata": {
    "execution": {
     "iopub.execute_input": "2024-05-16T15:51:17.234396Z",
     "iopub.status.busy": "2024-05-16T15:51:17.234208Z",
     "iopub.status.idle": "2024-05-16T15:51:17.253335Z",
     "shell.execute_reply": "2024-05-16T15:51:17.252826Z",
     "shell.execute_reply.started": "2024-05-16T15:51:17.234380Z"
    }
   },
   "outputs": [],
   "source": [
    "mpcorb_table"
   ]
  },
  {
   "cell_type": "code",
   "execution_count": null,
   "id": "03a065dd-099c-4913-a9ca-5590e1c26534",
   "metadata": {
    "execution": {
     "iopub.execute_input": "2024-05-16T15:51:17.254349Z",
     "iopub.status.busy": "2024-05-16T15:51:17.254159Z",
     "iopub.status.idle": "2024-05-16T15:51:17.257129Z",
     "shell.execute_reply": "2024-05-16T15:51:17.256504Z",
     "shell.execute_reply.started": "2024-05-16T15:51:17.254335Z"
    }
   },
   "outputs": [],
   "source": [
    "# add a new fake object"
   ]
  },
  {
   "cell_type": "code",
   "execution_count": null,
   "id": "8e182829-078d-42d6-af0f-27e1e071aa5b",
   "metadata": {
    "execution": {
     "iopub.execute_input": "2024-05-16T15:51:17.261486Z",
     "iopub.status.busy": "2024-05-16T15:51:17.261304Z",
     "iopub.status.idle": "2024-05-16T15:51:17.286690Z",
     "shell.execute_reply": "2024-05-16T15:51:17.286201Z",
     "shell.execute_reply.started": "2024-05-16T15:51:17.261472Z"
    }
   },
   "outputs": [],
   "source": [
    "diatable"
   ]
  },
  {
   "cell_type": "code",
   "execution_count": null,
   "id": "7753f35c-870e-465f-b40b-76405853bff6",
   "metadata": {
    "execution": {
     "iopub.execute_input": "2024-05-16T15:51:17.287883Z",
     "iopub.status.busy": "2024-05-16T15:51:17.287546Z",
     "iopub.status.idle": "2024-05-16T15:51:17.299875Z",
     "shell.execute_reply": "2024-05-16T15:51:17.299345Z",
     "shell.execute_reply.started": "2024-05-16T15:51:17.287862Z"
    }
   },
   "outputs": [],
   "source": [
    "diatable[(diatable[\"ssObjectId\"] == test_id)].value_counts(\"diaSourceId\")"
   ]
  },
  {
   "cell_type": "code",
   "execution_count": null,
   "id": "a75c4bea-1054-45db-b5f6-8a2993092b86",
   "metadata": {
    "execution": {
     "iopub.execute_input": "2024-05-16T15:51:17.300710Z",
     "iopub.status.busy": "2024-05-16T15:51:17.300509Z",
     "iopub.status.idle": "2024-05-16T15:51:17.312925Z",
     "shell.execute_reply": "2024-05-16T15:51:17.312445Z",
     "shell.execute_reply.started": "2024-05-16T15:51:17.300696Z"
    }
   },
   "outputs": [],
   "source": [
    "diatable[(diatable[\"ssObjectId\"] == test_id) & (diatable[\"band\"] == \"r\")].value_counts(\"diaSourceId\")"
   ]
  },
  {
   "cell_type": "code",
   "execution_count": null,
   "id": "56b4b04a-3b22-4092-95a9-49aaa5c1d1ed",
   "metadata": {
    "execution": {
     "iopub.execute_input": "2024-05-16T15:51:17.313863Z",
     "iopub.status.busy": "2024-05-16T15:51:17.313686Z",
     "iopub.status.idle": "2024-05-16T15:51:17.327018Z",
     "shell.execute_reply": "2024-05-16T15:51:17.326449Z",
     "shell.execute_reply.started": "2024-05-16T15:51:17.313849Z"
    }
   },
   "outputs": [],
   "source": [
    "# df_dict = {\"dia\":diatable,\n",
    "#            \"sss\":sssource_table,\n",
    "#            \"sso\":ssobject_table,\n",
    "#            \"mpc\":mpcorb_table}"
   ]
  },
  {
   "cell_type": "code",
   "execution_count": null,
   "id": "37bc252d-c1f3-47d8-97c2-3a19ca34b0f3",
   "metadata": {
    "execution": {
     "iopub.execute_input": "2024-05-16T15:51:17.327817Z",
     "iopub.status.busy": "2024-05-16T15:51:17.327650Z",
     "iopub.status.idle": "2024-05-16T15:51:17.340474Z",
     "shell.execute_reply": "2024-05-16T15:51:17.339974Z",
     "shell.execute_reply.started": "2024-05-16T15:51:17.327804Z"
    }
   },
   "outputs": [],
   "source": [
    "# for x in df_dict:\n",
    "\n",
    "#     _df = df_dict[x].copy()[df_dict[x][\"ssObjectId\"]==test_id]\n",
    "#     _df[\"ssObjectId\"] = fake_id\n",
    "#     df_dict[x] = pd.concat([df_dict[x],_df],axis = 0).reset_index(drop=True)\n",
    "#     print(len(_df),len(df_dict[x]))"
   ]
  },
  {
   "cell_type": "code",
   "execution_count": null,
   "id": "bf5045bb-2a7b-4d63-b5f3-1caeaf3c01f5",
   "metadata": {
    "execution": {
     "iopub.execute_input": "2024-05-16T15:51:17.341321Z",
     "iopub.status.busy": "2024-05-16T15:51:17.341144Z",
     "iopub.status.idle": "2024-05-16T15:51:17.353407Z",
     "shell.execute_reply": "2024-05-16T15:51:17.352881Z",
     "shell.execute_reply.started": "2024-05-16T15:51:17.341308Z"
    }
   },
   "outputs": [],
   "source": [
    "# diatable = df_dict[\"dia\"]\n",
    "# sssource_table = df_dict[\"sss\"]\n",
    "# ssobject_table = df_dict[\"sso\"]\n",
    "# mpcorb_table = df_dict[\"mpc\"]"
   ]
  },
  {
   "cell_type": "code",
   "execution_count": null,
   "id": "6e1a1bdd-1b94-4225-bc95-b383233b6c2d",
   "metadata": {
    "execution": {
     "iopub.execute_input": "2024-05-16T15:51:17.354214Z",
     "iopub.status.busy": "2024-05-16T15:51:17.354045Z",
     "iopub.status.idle": "2024-05-16T15:51:17.366070Z",
     "shell.execute_reply": "2024-05-16T15:51:17.365497Z",
     "shell.execute_reply.started": "2024-05-16T15:51:17.354201Z"
    }
   },
   "outputs": [],
   "source": [
    "# _df = diatable.copy()[diatable[\"ssObjectId\"]==test_id]\n",
    "# _df[\"ssObjectId\"] = fake_id\n",
    "# diatable = pd.concat([diatable,_df],axis = 0).reset_index(drop=True)\n",
    "# # print(len(_df),len(df_dict[x]))\n",
    "# _df"
   ]
  },
  {
   "cell_type": "code",
   "execution_count": null,
   "id": "26b6974b-ff98-4f4e-ab49-352a48ba895a",
   "metadata": {
    "execution": {
     "iopub.execute_input": "2024-05-16T15:51:17.366988Z",
     "iopub.status.busy": "2024-05-16T15:51:17.366751Z",
     "iopub.status.idle": "2024-05-16T15:51:17.380019Z",
     "shell.execute_reply": "2024-05-16T15:51:17.379486Z",
     "shell.execute_reply.started": "2024-05-16T15:51:17.366974Z"
    }
   },
   "outputs": [],
   "source": [
    "# # add an outburst\n",
    "# t0 = 63100\n",
    "# t1 = 63600\n",
    "# mag_shift = -1.5\n",
    "\n",
    "# mask = ((diatable[\"ssObjectId\"] == fake_id) &\n",
    "#         (diatable[\"midPointMjdTai\"] > t0) &\n",
    "#         (diatable[\"midPointMjdTai\"] < t1))\n",
    "\n",
    "# diatable.loc[mask,\"mag\"] += mag_shift"
   ]
  },
  {
   "cell_type": "code",
   "execution_count": null,
   "id": "0433626a-057a-45c2-8cd1-68f3de4022b6",
   "metadata": {
    "execution": {
     "iopub.execute_input": "2024-05-16T15:51:17.380986Z",
     "iopub.status.busy": "2024-05-16T15:51:17.380732Z",
     "iopub.status.idle": "2024-05-16T15:51:17.410063Z",
     "shell.execute_reply": "2024-05-16T15:51:17.409487Z",
     "shell.execute_reply.started": "2024-05-16T15:51:17.380971Z"
    }
   },
   "outputs": [],
   "source": [
    "diatable"
   ]
  },
  {
   "cell_type": "code",
   "execution_count": null,
   "id": "a4a41ba6-b8bc-4a24-9e6d-e69d0dc19866",
   "metadata": {
    "execution": {
     "iopub.execute_input": "2024-05-16T15:51:17.411036Z",
     "iopub.status.busy": "2024-05-16T15:51:17.410846Z",
     "iopub.status.idle": "2024-05-16T15:51:17.496166Z",
     "shell.execute_reply": "2024-05-16T15:51:17.495588Z",
     "shell.execute_reply.started": "2024-05-16T15:51:17.411022Z"
    }
   },
   "outputs": [],
   "source": [
    "# diatable.to_sql(\"diaSource\", con=cnx, if_exists=\"append\", index=False)\n",
    "diatable.to_sql(\"diaSource\", con=cnx, if_exists=\"replace\", index=False)"
   ]
  },
  {
   "cell_type": "code",
   "execution_count": null,
   "id": "aaab53fe-5391-42f4-9458-c80f8201626f",
   "metadata": {
    "execution": {
     "iopub.execute_input": "2024-05-16T15:51:17.497155Z",
     "iopub.status.busy": "2024-05-16T15:51:17.496952Z",
     "iopub.status.idle": "2024-05-16T15:51:17.566910Z",
     "shell.execute_reply": "2024-05-16T15:51:17.566241Z",
     "shell.execute_reply.started": "2024-05-16T15:51:17.497140Z"
    }
   },
   "outputs": [],
   "source": [
    "# sssource_table.to_sql(\"ssSource\", con=cnx, if_exists=\"append\", index=False)\n",
    "sssource_table.to_sql(\"ssSource\", con=cnx, if_exists=\"replace\", index=False)"
   ]
  },
  {
   "cell_type": "code",
   "execution_count": null,
   "id": "00e59db2-d3d5-47ba-b166-e9baa38a18ca",
   "metadata": {
    "execution": {
     "iopub.execute_input": "2024-05-16T15:51:17.567972Z",
     "iopub.status.busy": "2024-05-16T15:51:17.567727Z",
     "iopub.status.idle": "2024-05-16T15:51:17.620969Z",
     "shell.execute_reply": "2024-05-16T15:51:17.620385Z",
     "shell.execute_reply.started": "2024-05-16T15:51:17.567954Z"
    }
   },
   "outputs": [],
   "source": [
    "# ssobject_table.to_sql(\"ssObject\", con=cnx, if_exists=\"append\", index=False)\n",
    "ssobject_table.to_sql(\"ssObject\", con=cnx, if_exists=\"replace\", index=False)"
   ]
  },
  {
   "cell_type": "code",
   "execution_count": null,
   "id": "2ef861b6-a2f7-48d3-9494-775525288635",
   "metadata": {
    "execution": {
     "iopub.execute_input": "2024-05-16T15:51:17.621931Z",
     "iopub.status.busy": "2024-05-16T15:51:17.621730Z",
     "iopub.status.idle": "2024-05-16T15:51:17.670994Z",
     "shell.execute_reply": "2024-05-16T15:51:17.670462Z",
     "shell.execute_reply.started": "2024-05-16T15:51:17.621916Z"
    }
   },
   "outputs": [],
   "source": [
    "# mpcorb_table.to_sql(\"MPCORB\", con=cnx, if_exists=\"append\", index=False)\n",
    "mpcorb_table.to_sql(\"MPCORB\", con=cnx, if_exists=\"replace\", index=False)"
   ]
  },
  {
   "cell_type": "code",
   "execution_count": null,
   "id": "dbef0ea3-614e-46f1-9ef6-dd8373fe51c6",
   "metadata": {
    "execution": {
     "iopub.execute_input": "2024-05-16T15:51:17.671900Z",
     "iopub.status.busy": "2024-05-16T15:51:17.671714Z",
     "iopub.status.idle": "2024-05-16T15:51:17.703052Z",
     "shell.execute_reply": "2024-05-16T15:51:17.702557Z",
     "shell.execute_reply.started": "2024-05-16T15:51:17.671885Z"
    }
   },
   "outputs": [],
   "source": [
    "_diatable = diatable.copy()[diatable[\"ssObjectId\"] == test_id]\n",
    "_diatable[\"ssObjectId\"] = fake_id\n",
    "_diatable[\"diaSourceId\"] = _diatable[\"diaSourceId\"] * 1000\n",
    "\n",
    "# add an outburst\n",
    "t0 = 63100\n",
    "t1 = 63600\n",
    "mag_shift = -1.5\n",
    "\n",
    "mask = (\n",
    "    (_diatable[\"ssObjectId\"] == fake_id)\n",
    "    & (_diatable[\"midPointMjdTai\"] > t0)\n",
    "    & (_diatable[\"midPointMjdTai\"] < t1)\n",
    ")\n",
    "\n",
    "_diatable.loc[mask, \"mag\"] += mag_shift\n",
    "\n",
    "_diatable.to_sql(\"diaSource\", con=cnx, if_exists=\"append\", index=False)"
   ]
  },
  {
   "cell_type": "code",
   "execution_count": null,
   "id": "e3bb4edd-844f-436c-acec-cf75075a216e",
   "metadata": {
    "execution": {
     "iopub.execute_input": "2024-05-16T15:51:17.703989Z",
     "iopub.status.busy": "2024-05-16T15:51:17.703796Z",
     "iopub.status.idle": "2024-05-16T15:51:17.724554Z",
     "shell.execute_reply": "2024-05-16T15:51:17.724027Z",
     "shell.execute_reply.started": "2024-05-16T15:51:17.703975Z"
    }
   },
   "outputs": [],
   "source": [
    "_diatable[diatable[\"band\"] == \"r\"]"
   ]
  },
  {
   "cell_type": "code",
   "execution_count": null,
   "id": "53f27516-1c24-4567-b1f6-11b93cde07e8",
   "metadata": {
    "execution": {
     "iopub.execute_input": "2024-05-16T15:51:17.725408Z",
     "iopub.status.busy": "2024-05-16T15:51:17.725225Z",
     "iopub.status.idle": "2024-05-16T15:51:17.788111Z",
     "shell.execute_reply": "2024-05-16T15:51:17.787591Z",
     "shell.execute_reply.started": "2024-05-16T15:51:17.725393Z"
    }
   },
   "outputs": [],
   "source": [
    "_sssource_table = sssource_table.copy()[sssource_table[\"ssObjectId\"] == test_id]\n",
    "_sssource_table[\"ssObjectId\"] = fake_id\n",
    "_sssource_table[\"diaSourceId\"] = _sssource_table[\"diaSourceId\"] * 1000\n",
    "_sssource_table.to_sql(\"ssSource\", con=cnx, if_exists=\"append\", index=False)\n",
    "\n",
    "_ssobject_table = ssobject_table.copy()[ssobject_table[\"ssObjectId\"] == test_id]\n",
    "_ssobject_table[\"ssObjectId\"] = fake_id\n",
    "_ssobject_table.to_sql(\"ssObject\", con=cnx, if_exists=\"append\", index=False)\n",
    "\n",
    "_mpcorb_table = mpcorb_table.copy()[mpcorb_table[\"ssObjectId\"] == test_id]\n",
    "_mpcorb_table[\"ssObjectId\"] = fake_id\n",
    "_mpcorb_table.to_sql(\"MPCORB\", con=cnx, if_exists=\"append\", index=False)"
   ]
  },
  {
   "cell_type": "code",
   "execution_count": null,
   "id": "5935a89f-ddae-4587-9546-0dce6f91789c",
   "metadata": {
    "execution": {
     "iopub.execute_input": "2024-05-16T15:51:17.788992Z",
     "iopub.status.busy": "2024-05-16T15:51:17.788810Z",
     "iopub.status.idle": "2024-05-16T15:51:17.792091Z",
     "shell.execute_reply": "2024-05-16T15:51:17.791606Z",
     "shell.execute_reply.started": "2024-05-16T15:51:17.788978Z"
    }
   },
   "outputs": [],
   "source": [
    "cnx.close()"
   ]
  },
  {
   "cell_type": "markdown",
   "id": "b62d7ab4-3ee7-46b2-9d30-f0b740c88068",
   "metadata": {},
   "source": [
    "Testing everything went correctly..."
   ]
  },
  {
   "cell_type": "code",
   "execution_count": null,
   "id": "7a53c503-3a1a-44f3-b8c2-0aa5dde7a397",
   "metadata": {
    "execution": {
     "iopub.execute_input": "2024-05-16T15:51:17.792894Z",
     "iopub.status.busy": "2024-05-16T15:51:17.792718Z",
     "iopub.status.idle": "2024-05-16T15:51:17.804834Z",
     "shell.execute_reply": "2024-05-16T15:51:17.804254Z",
     "shell.execute_reply.started": "2024-05-16T15:51:17.792880Z"
    }
   },
   "outputs": [],
   "source": [
    "cnx = sqlite3.connect(db_fname)"
   ]
  },
  {
   "cell_type": "code",
   "execution_count": null,
   "id": "06b38c09-3fe4-4eb9-811b-37a97052b0c8",
   "metadata": {
    "execution": {
     "iopub.execute_input": "2024-05-16T15:51:17.805587Z",
     "iopub.status.busy": "2024-05-16T15:51:17.805408Z",
     "iopub.status.idle": "2024-05-16T15:51:17.816695Z",
     "shell.execute_reply": "2024-05-16T15:51:17.816120Z",
     "shell.execute_reply.started": "2024-05-16T15:51:17.805560Z"
    }
   },
   "outputs": [],
   "source": [
    "# example_query = f\"\"\"\n",
    "#                 SELECT\n",
    "#                     ssObject.ssObjectId, mag, magErr, band, midpointMjdTai, ra, dec, phaseAngle,\n",
    "#                     topocentricDist, heliocentricDist\n",
    "#                 FROM\n",
    "#                     ssObject\n",
    "#                     JOIN diaSource ON ssObject.ssObjectId   = diaSource.ssObjectId\n",
    "#                     JOIN ssSource  ON diaSource.diaSourceId = ssSource.diaSourceId\n",
    "#                 WHERE\n",
    "#                     ssObject.ssObjectId = {ssoid}\n",
    "#                 \"\"\"\n",
    "# example_query = f\"\"\"\n",
    "#                 SELECT\n",
    "#                     ssObject.ssObjectId, mag, magErr, band, midpointMjdTai, ra, dec, phaseAngle,\n",
    "#                     topocentricDist, heliocentricDist\n",
    "#                 FROM\n",
    "#                     ssObject\n",
    "#                     JOIN diaSource ON ssObject.ssObjectId   = diaSource.ssObjectId\n",
    "#                     JOIN ssSource  ON diaSource.diaSourceId = ssSource.diaSourceId\n",
    "#                 WHERE\n",
    "#                     ssObject.ssObjectId in {ssoid_list}\n",
    "#                 \"\"\"\n",
    "\n",
    "example_query = f\"\"\"\n",
    "                SELECT\n",
    "                    ssObject.ssObjectId, ssSource.diaSourceId, mag, magErr, band, midpointMjdTai, ra, dec, phaseAngle,\n",
    "                    topocentricDist, heliocentricDist\n",
    "                FROM\n",
    "                    ssObject\n",
    "                    JOIN diaSource ON ssObject.ssObjectId   = diaSource.ssObjectId\n",
    "                    JOIN ssSource  ON diaSource.diaSourceId = ssSource.diaSourceId\n",
    "                WHERE\n",
    "                    ssObject.ssObjectId = {fake_id} and band = 'r'\n",
    "                \"\"\""
   ]
  },
  {
   "cell_type": "code",
   "execution_count": null,
   "id": "53b44a8b-0aed-4d90-8397-aed7c6ba4514",
   "metadata": {
    "execution": {
     "iopub.execute_input": "2024-05-16T15:51:17.817506Z",
     "iopub.status.busy": "2024-05-16T15:51:17.817322Z",
     "iopub.status.idle": "2024-05-16T15:51:17.849053Z",
     "shell.execute_reply": "2024-05-16T15:51:17.848475Z",
     "shell.execute_reply.started": "2024-05-16T15:51:17.817493Z"
    }
   },
   "outputs": [],
   "source": [
    "pd.read_sql_query(example_query, cnx)"
   ]
  },
  {
   "cell_type": "code",
   "execution_count": null,
   "id": "90d6c5fc-4848-4d4f-84c7-5f247f08de7d",
   "metadata": {
    "execution": {
     "iopub.execute_input": "2024-05-16T15:51:17.849938Z",
     "iopub.status.busy": "2024-05-16T15:51:17.849750Z",
     "iopub.status.idle": "2024-05-16T15:51:17.852669Z",
     "shell.execute_reply": "2024-05-16T15:51:17.852185Z",
     "shell.execute_reply.started": "2024-05-16T15:51:17.849924Z"
    }
   },
   "outputs": [],
   "source": [
    "cur = cnx.cursor()"
   ]
  },
  {
   "cell_type": "code",
   "execution_count": null,
   "id": "e8d59efa-1e98-4cd2-9e1a-3609df99934b",
   "metadata": {
    "execution": {
     "iopub.execute_input": "2024-05-16T15:51:17.853526Z",
     "iopub.status.busy": "2024-05-16T15:51:17.853344Z",
     "iopub.status.idle": "2024-05-16T15:51:17.867448Z",
     "shell.execute_reply": "2024-05-16T15:51:17.866908Z",
     "shell.execute_reply.started": "2024-05-16T15:51:17.853512Z"
    }
   },
   "outputs": [],
   "source": [
    "res = cur.execute(\"SELECT * FROM sqlite_schema\")"
   ]
  },
  {
   "cell_type": "code",
   "execution_count": null,
   "id": "7c087e1b-8bfe-4572-accf-49585a6a08a1",
   "metadata": {
    "execution": {
     "iopub.execute_input": "2024-05-16T15:51:17.868644Z",
     "iopub.status.busy": "2024-05-16T15:51:17.868421Z",
     "iopub.status.idle": "2024-05-16T15:51:17.880840Z",
     "shell.execute_reply": "2024-05-16T15:51:17.880300Z",
     "shell.execute_reply.started": "2024-05-16T15:51:17.868629Z"
    }
   },
   "outputs": [],
   "source": [
    "res.fetchall()"
   ]
  },
  {
   "cell_type": "code",
   "execution_count": null,
   "id": "d6da55b0-dc55-4762-8735-c5531fdcef9c",
   "metadata": {},
   "outputs": [],
   "source": []
  }
 ],
 "metadata": {
  "kernelspec": {
   "display_name": "LSST",
   "language": "python",
   "name": "lsst"
  },
  "language_info": {
   "codemirror_mode": {
    "name": "ipython",
    "version": 3
   },
   "file_extension": ".py",
   "mimetype": "text/x-python",
   "name": "python",
   "nbconvert_exporter": "python",
   "pygments_lexer": "ipython3",
   "version": "3.11.7"
  }
 },
 "nbformat": 4,
 "nbformat_minor": 5
}
