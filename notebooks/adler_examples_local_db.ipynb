{
 "cells": [
  {
   "cell_type": "code",
   "execution_count": 1,
   "id": "d591f5d8-9148-46ff-a62b-0f2a29eb806c",
   "metadata": {
    "execution": {
     "iopub.execute_input": "2024-02-29T16:09:11.533501Z",
     "iopub.status.busy": "2024-02-29T16:09:11.533247Z",
     "iopub.status.idle": "2024-02-29T16:09:13.062886Z",
     "shell.execute_reply": "2024-02-29T16:09:13.061510Z",
     "shell.execute_reply.started": "2024-02-29T16:09:11.533477Z"
    }
   },
   "outputs": [],
   "source": [
    "from adler.dataclasses.AdlerPlanetoid import AdlerPlanetoid\n",
    "from adler.science.PhaseCurve import PhaseCurve\n",
    "\n",
    "import numpy as np\n",
    "import matplotlib.pyplot as plt\n",
    "import matplotlib.gridspec as gridspec\n",
    "import astropy.units as u"
   ]
  },
  {
   "cell_type": "code",
   "execution_count": 2,
   "id": "645efb98-567d-481e-a79c-b1cfdc828726",
   "metadata": {
    "execution": {
     "iopub.execute_input": "2024-02-29T16:09:13.065333Z",
     "iopub.status.busy": "2024-02-29T16:09:13.064482Z",
     "iopub.status.idle": "2024-02-29T16:09:13.070452Z",
     "shell.execute_reply": "2024-02-29T16:09:13.069235Z",
     "shell.execute_reply.started": "2024-02-29T16:09:13.065297Z"
    }
   },
   "outputs": [],
   "source": [
    "# ssObjectId of object to analyse\n",
    "ssoid = \"8268570668335894776\""
   ]
  },
  {
   "cell_type": "code",
   "execution_count": 3,
   "id": "10b36aab-b322-49b8-8ff3-49bef68d7416",
   "metadata": {
    "execution": {
     "iopub.execute_input": "2024-02-29T16:09:13.072314Z",
     "iopub.status.busy": "2024-02-29T16:09:13.071967Z",
     "iopub.status.idle": "2024-02-29T16:09:14.279820Z",
     "shell.execute_reply": "2024-02-29T16:09:14.278772Z",
     "shell.execute_reply.started": "2024-02-29T16:09:13.072275Z"
    }
   },
   "outputs": [],
   "source": [
    "# retrieve the object data via adler\n",
    "# here we use an offline SQL database which contains the observations of the sso\n",
    "fname = \"../tests/data/testing_database.db\"\n",
    "planetoid = AdlerPlanetoid.construct_from_SQL(ssoid,sql_filename = fname)"
   ]
  },
  {
   "cell_type": "code",
   "execution_count": 4,
   "id": "d9a0623d-0dc7-49c1-99dd-a76ef970a3ff",
   "metadata": {
    "execution": {
     "iopub.execute_input": "2024-02-29T16:09:14.281553Z",
     "iopub.status.busy": "2024-02-29T16:09:14.281143Z",
     "iopub.status.idle": "2024-02-29T16:09:14.287399Z",
     "shell.execute_reply": "2024-02-29T16:09:14.286612Z",
     "shell.execute_reply.started": "2024-02-29T16:09:14.281511Z"
    }
   },
   "outputs": [
    {
     "data": {
      "text/plain": [
       "{'ssObjectId': '8268570668335894776',\n",
       " 'filter_list': ['u', 'g', 'r', 'i', 'z', 'y'],\n",
       " 'date_range': [60000.0, 67300.0],\n",
       " 'observations_by_filter': [Observations(ssObjectId='8268570668335894776', filter_name='u', mag=array([], dtype=object), magErr=array([], dtype=object), midpointMjdTai=array([], dtype=object), ra=array([], dtype=object), dec=array([], dtype=object), phaseAngle=array([], dtype=object), topocentricDist=array([], dtype=object), heliocentricDist=array([], dtype=object), reduced_mag=array([], dtype=object), num_obs=0),\n",
       "  Observations(ssObjectId='8268570668335894776', filter_name='g', mag=array([21.33099937, 22.67099953, 23.5359993 , 22.85000038, 22.97599983,\n",
       "         22.94499969, 23.13599968, 23.19400024, 23.1609993 ]), magErr=array([0.033, 0.07 , 0.141, 0.075, 0.048, 0.046, 0.068, 0.065, 0.066]), midpointMjdTai=array([62379.03985, 62414.11171, 63534.06359, 61323.17176, 60228.05559,\n",
       "         60228.05606, 60229.03603, 60231.05795, 60233.03832]), ra=array([255.2300797, 304.1658794, 311.2951848, 315.6989729, 323.5328231,\n",
       "         323.5329139, 323.7251118, 324.132392 , 324.5463505]), dec=array([-23.3427625, -17.1779969, -15.6242814, -13.5912723, -10.6707848,\n",
       "         -10.6707602, -10.6150706, -10.4964008, -10.3753228]), phaseAngle=array([63.60055161, 38.03742981, 36.49517059, 31.97113991, 27.42666817,\n",
       "         27.42672539, 27.53459549, 27.73578453, 27.90441322]), topocentricDist=array([0.33790752, 0.84168053, 1.27439773, 0.95509756, 0.99907744,\n",
       "         0.99908602, 1.01725268, 1.05503416, 1.09241748]), heliocentricDist=array([1.11330199, 1.51804984, 1.66657984, 1.67151237, 1.77300227,\n",
       "         1.7730068 , 1.78262854, 1.80235839, 1.82152498]), reduced_mag=array([23.45394514, 22.13883298, 21.90034373, 21.83421374, 21.73445762,\n",
       "         21.70343328, 21.84355119, 21.79846187, 21.66688044]), num_obs=9),\n",
       "  Observations(ssObjectId='8268570668335894776', filter_name='r', mag=array([21.91399956, 21.98600006, 21.75900078, 22.09399986, 21.61499977,\n",
       "         21.72800064, 21.72200012, 20.4470005 , 21.78899956, 21.95899963,\n",
       "         22.17900085, 22.44499969, 22.38999939, 22.92399979, 22.24799919,\n",
       "         22.27599907, 22.29100037, 22.66200066, 22.69799995, 23.93300056,\n",
       "         23.74200058, 22.14299965, 22.16799927, 22.24900055, 22.28499985,\n",
       "         22.26199913, 22.44000053, 23.56800079, 23.70199966, 24.19499969,\n",
       "         22.22900009, 22.04899979, 22.17700005, 23.52199936, 23.70199966,\n",
       "         22.88699913, 23.06800079, 24.24200058]), magErr=array([0.095     , 0.049     , 0.07      , 0.047     , 0.036     ,\n",
       "         0.038     , 0.034     , 0.011     , 0.052     , 0.06      ,\n",
       "         0.042     , 0.098     , 0.1       , 0.116     , 0.046     ,\n",
       "         0.06      , 0.082     , 0.083     , 0.063     , 0.35100001,\n",
       "         0.2       , 0.057     , 0.034     , 0.036     , 0.054     ,\n",
       "         0.051     , 0.046     , 0.17200001, 0.199     , 0.17      ,\n",
       "         0.264     , 0.28299999, 0.31600001, 0.163     , 0.248     ,\n",
       "         0.182     , 0.211     , 0.38299999]), midpointMjdTai=array([63492.00291, 63500.06856, 63479.0044 , 63502.00311, 62406.09011,\n",
       "         62407.07445, 62407.09369, 61294.15865, 62412.12365, 62414.13572,\n",
       "         62415.05691, 62422.06327, 62422.06596, 63534.03975, 61322.07319,\n",
       "         61323.00925, 61326.03134, 61329.00043, 61330.01524, 63554.05676,\n",
       "         63562.05437, 60223.98877, 60224.07621, 60226.02382, 60228.0802 ,\n",
       "         60228.08066, 60230.03315, 61355.02232, 61355.02277, 60264.01472,\n",
       "         61253.97055, 61253.96744, 61253.96433, 61052.13729, 63217.23761,\n",
       "         62125.2233 , 62113.17449, 62095.28873]), ra=array([268.4639755, 281.1782352, 239.848597 , 283.7424099, 298.1255196,\n",
       "         298.9437966, 298.9592036, 301.5682143, 302.7875618, 304.1818652,\n",
       "         304.7993288, 309.1175392, 309.1190487, 311.280946 , 315.2799036,\n",
       "         315.6390597, 316.7793075, 317.8804823, 318.2527231, 322.0860789,\n",
       "         325.868688 , 322.7789008, 322.7931457, 323.1475474, 323.5372789,\n",
       "         323.5373434, 323.9242256, 327.0967385, 327.0968451, 332.3781914,\n",
       "         170.4323598, 170.4247983, 170.4172297,  62.6767601,  68.4459325,\n",
       "          69.233718 ,  74.6917865,  81.7128501]), dec=array([-22.9543395, -21.8517282, -21.8243507, -21.5140075, -18.6306791,\n",
       "         -18.443366 , -18.4396764, -17.709034 , -17.5230447, -17.1737751,\n",
       "         -17.0169932, -15.874741 , -15.8743016, -15.6284188, -13.7156598,\n",
       "         -13.6098197, -13.2712987, -12.9420707, -12.8300092, -12.3090787,\n",
       "         -11.0256047, -10.889507 , -10.8850457, -10.7825671, -10.6694075,\n",
       "         -10.6693695, -10.5571517, -10.035292 , -10.0351984,  -7.9025949,\n",
       "          -3.6550378,  -3.6513877,  -3.6478445,  27.0535373,  28.5344673,\n",
       "          28.6462634,  29.3204275,  29.563878 ]), phaseAngle=array([ 56.70839691,  50.07988358,  72.76689148,  48.80239868,\n",
       "          40.30448914,  39.98022079,  39.97434235,  33.56268311,\n",
       "          38.53084564,  38.03194427,  37.81433105,  36.34851074,\n",
       "          36.34802628,  36.50101089,  32.00559616,  31.97466469,\n",
       "          31.86707687,  31.74268913,  31.69605255,  31.88496971,\n",
       "          30.16068649,  26.89824295,  26.91216087,  27.17892265,\n",
       "          27.42977715,  27.42983437,  27.63732719,  29.76596832,\n",
       "          29.76592445,  27.73990822, 126.7827301 , 126.78705597,\n",
       "         126.79136658,  18.63666534,   5.73195124,   7.0533433 ,\n",
       "           2.55333257,   9.17568874]), topocentricDist=array([0.58142245, 0.68610221, 0.47289231, 0.71412551, 0.70371586,\n",
       "         0.72016948, 0.72049457, 0.45957258, 0.806705  , 0.8421095 ,\n",
       "         0.85847169, 0.98606402, 0.98611432, 1.27393341, 0.93472457,\n",
       "         0.95206416, 1.00859618, 1.06491303, 1.08432984, 1.67350197,\n",
       "         1.8374033 , 0.92473841, 0.92631632, 0.96172243, 0.99953324,\n",
       "         0.99954176, 1.03583491, 1.58487654, 1.58488584, 1.71470714,\n",
       "         0.20776999, 0.20780498, 0.20783997, 1.4200809 , 1.59280014,\n",
       "         1.50733411, 1.56365716, 1.73338318]), heliocentricDist=array([1.19897687, 1.29408848, 1.0418874 , 1.31655276, 1.42970574,\n",
       "         1.44069195, 1.44090629, 1.35723567, 1.49640727, 1.51831007,\n",
       "         1.52828085, 1.60294342, 1.60297179, 1.66633558, 1.66025329,\n",
       "         1.66984999, 1.70058703, 1.73042095, 1.74053574, 1.86338043,\n",
       "         1.93771982, 1.73265779, 1.73353231, 1.75293028, 1.77324426,\n",
       "         1.77324879, 1.79237878, 1.97701716, 1.97702122, 2.10192013,\n",
       "         0.87671232, 0.87667543, 0.87663853, 2.21820784, 2.55602884,\n",
       "         2.46223307, 2.54469585, 2.65981913]), reduced_mag=array([22.69748655, 22.2442361 , 23.29608557, 22.22793578, 21.60177977,\n",
       "         21.64797142, 21.64066789, 21.47195362, 21.38017677, 21.42535443,\n",
       "         21.5893551 , 21.45088317, 21.39573365, 21.28945381, 21.29370916,\n",
       "         21.2692807 , 21.11941945, 21.33467112, 21.31877818, 21.46336177,\n",
       "         20.98452321, 21.11934119, 21.13954299, 21.1149286 , 21.04217083,\n",
       "         21.01914605, 21.09639885, 21.08797141, 21.22195309, 21.41096887,\n",
       "         25.92680044, 25.74652589, 25.87425196, 21.03042275, 20.65336449,\n",
       "         20.03930569, 20.06911369, 20.92326717]), num_obs=38),\n",
       "  Observations(ssObjectId='8268570668335894776', filter_name='i', mag=array([21.6439991 , 21.36300087, 21.87800026, 21.9109993 , 21.13100052,\n",
       "         21.31299973, 21.52899933, 21.4489994 , 21.9659996 , 22.34600067,\n",
       "         22.1060009 , 22.8239994 , 22.1420002 , 22.22699928, 22.55699921,\n",
       "         22.9260006 , 22.86000061, 23.03899956, 23.01000023, 23.01499939,\n",
       "         21.69099998, 21.62800026, 21.73800087, 21.7670002 , 24.12299919,\n",
       "         23.5720005 , 23.12000084, 22.00600052, 22.13199997, 21.44499969,\n",
       "         21.8920002 , 22.96100044]), magErr=array([0.09      , 0.09      , 0.097     , 0.061     , 0.056     ,\n",
       "         0.06      , 0.043     , 0.055     , 0.052     , 0.123     ,\n",
       "         0.138     , 0.149     , 0.056     , 0.108     , 0.072     ,\n",
       "         0.15099999, 0.108     , 0.161     , 0.17200001, 0.24699999,\n",
       "         0.033     , 0.034     , 0.036     , 0.034     , 0.287     ,\n",
       "         0.20900001, 0.162     , 0.236     , 0.25099999, 0.273     ,\n",
       "         0.32800001, 0.20200001]), midpointMjdTai=array([63491.01061, 63492.02797, 63479.02886, 63502.02736, 62399.06072,\n",
       "         62406.11472, 62407.05015, 62407.11748, 62415.0812 , 62422.08767,\n",
       "         62422.09036, 62436.04279, 61322.99785, 61329.01185, 61330.03932,\n",
       "         61336.03529, 61340.01945, 61341.11766, 61341.11811, 61342.06216,\n",
       "         60220.01958, 60220.02049, 60221.12372, 60221.12557, 63562.07814,\n",
       "         61355.01017, 60247.08273, 62349.97398, 62349.97087, 62349.96776,\n",
       "         62349.96465, 61036.13418]), ra=array([266.6413363, 268.5086178, 239.9100993, 283.7730287, 291.4097759,\n",
       "         298.145886 , 298.9243467, 298.9782853, 304.8150582, 309.1312689,\n",
       "         309.1328297, 316.4041661, 315.6348596, 317.8845061, 318.2612529,\n",
       "         320.4304128, 321.848623 , 322.2360534, 322.2361831, 322.569595 ,\n",
       "         322.1115349, 322.1116543, 322.2881508, 322.2884132, 325.8794637,\n",
       "         327.0925894, 327.8278286, 172.616229 , 172.6111715, 172.6060941,\n",
       "         172.6010555,  68.9454695]), dec=array([-23.0326404, -22.9520606, -21.8321338, -21.5096171, -20.0492988,\n",
       "         -18.625892 , -18.4479994, -18.4350998, -17.0128368, -15.8709103,\n",
       "         -15.8704781, -13.7834185, -13.6110905, -12.9407809, -12.8273414,\n",
       "         -12.1670727, -11.7275091, -11.6058333, -11.6058105, -11.5011345,\n",
       "         -11.0839115, -11.0838709, -11.0316938, -11.0315926, -11.0218241,\n",
       "         -10.0366378,  -9.382581 ,  -1.8195237,  -1.8173023,  -1.8150431,\n",
       "          -1.8127825,  28.5483987]), phaseAngle=array([ 57.69313812,  56.68458939,  72.73178864,  48.7874794 ,\n",
       "          43.18344498,  40.29655838,  39.98762894,  39.96704483,\n",
       "          37.80903625,  36.34411621,  36.34362793,  33.94010925,\n",
       "          31.97488785,  31.74231148,  31.69519234,  31.36940193,\n",
       "          31.10543633,  31.02681541,  31.0267849 ,  30.95575333,\n",
       "          26.25296974,  26.25314522,  26.44772339,  26.4480629 ,\n",
       "          30.1556778 ,  29.76718521,  28.40824509, 111.80013275,\n",
       "         111.80042267, 111.80072021, 111.80101013,  10.05950642]), topocentricDist=array([0.57015663, 0.58171409, 0.47300589, 0.71448445, 0.59068811,\n",
       "         0.70412856, 0.71975976, 0.72089708, 0.85890698, 0.98651999,\n",
       "         0.98657024, 1.25412667, 0.95185274, 1.06513095, 1.08479238,\n",
       "         1.20115972, 1.2799077 , 1.30180955, 1.30181861, 1.32069123,\n",
       "         0.85387373, 0.85388964, 0.87341589, 0.87344897, 1.83789635,\n",
       "         1.58462429, 1.36697185, 0.4382202 , 0.43826094, 0.43830171,\n",
       "         0.43834251, 1.41184878]), heliocentricDist=array([1.18712699, 1.19927573, 1.04218543, 1.31683338, 1.35009003,\n",
       "         1.42998099, 1.44042122, 1.44117129, 1.52854323, 1.60319996,\n",
       "         1.60322821, 1.74579298, 1.66973341, 1.73053503, 1.74077535,\n",
       "         1.7996881 , 1.83804572, 1.84850955, 1.84851384, 1.85747135,\n",
       "         1.69262958, 1.69263875, 1.70382977, 1.70384848, 1.93793714,\n",
       "         1.97690809, 1.95307171, 0.76700246, 0.76696873, 0.76693499,\n",
       "         0.76690125, 2.34223175]), reduced_mag=array([22.49154229, 22.14485771, 23.41394253, 22.04338125, 21.62239573,\n",
       "         21.29808859, 21.45061395, 21.36605507, 21.3748803 , 21.35053275,\n",
       "         21.11038412, 21.12232867, 21.1359157 , 20.89908229, 21.17655245,\n",
       "         21.25201058, 21.0023258 , 21.1321538 , 21.10313432, 21.06638231,\n",
       "         20.8912221 , 20.82817013, 20.87476443, 20.90365766, 21.36469569,\n",
       "         21.09243657, 20.98761203, 24.37355475, 24.49944785, 23.8123411 ,\n",
       "         24.259235  , 20.3639102 ]), num_obs=32),\n",
       "  Observations(ssObjectId='8268570668335894776', filter_name='z', mag=array([21.65099907, 20.8239994 , 21.2840004 , 21.27899933, 22.35499954,\n",
       "         21.80500031, 21.54999924, 21.36400032, 22.88599968, 23.33099937,\n",
       "         21.72400093, 21.83499908, 21.87899971, 22.81800079, 22.74699974]), magErr=array([0.14399999, 0.169     , 0.077     , 0.077     , 0.20900001,\n",
       "         0.097     , 0.116     , 0.075     , 0.197     , 0.19400001,\n",
       "         0.054     , 0.057     , 0.054     , 0.17299999, 0.245     ]), midpointMjdTai=array([63491.03495, 62370.9729 , 62399.08464, 62400.05034, 63520.05886,\n",
       "         62411.05949, 62411.07292, 61309.15792, 62429.06267, 61340.00767,\n",
       "         60220.04371, 60221.09951, 60221.10141, 60238.11179, 60247.05882]), ra=array([266.6862015, 228.9645547, 291.4352238, 292.4644191, 301.7031394,\n",
       "         302.0220675, 302.0316622, 309.9445463, 312.9360241, 321.8445762,\n",
       "         322.1149878, 322.2845177, 322.2848101, 325.6657983, 327.8220494]), dec=array([-23.0308381, -20.6945178, -20.0441634, -19.8413071, -18.1180487,\n",
       "         -17.7117757, -17.7093386, -15.2786908, -14.804212 , -11.7288161,\n",
       "         -11.0827998, -11.0328789, -11.0327917, -10.0432689,  -9.3844064]), phaseAngle=array([57.66902161, 80.89524078, 43.17203903, 42.70541382, 40.52689362,\n",
       "         38.80998611, 38.80657959, 32.35914612, 35.09179688, 31.10615921,\n",
       "         26.25766945, 26.44327354, 26.44362259, 28.21966362, 28.40810394]), topocentricDist=array([0.57043034, 0.29524919, 0.59106016, 0.60608381, 1.01253808,\n",
       "         0.78817856, 0.78841257, 0.70432466, 1.11828279, 1.27967286,\n",
       "         0.85429835, 0.87298429, 0.87301797, 1.18980193, 1.36648977]), heliocentricDist=array([1.18741798, 1.01504409, 1.35036433, 1.36142015, 1.51896226,\n",
       "         1.48475397, 1.48490143, 1.52411139, 1.6754756 , 1.83793306,\n",
       "         1.69287491, 1.70358479, 1.70360386, 1.86992252, 1.95285416]), reduced_mag=array([22.49696788, 23.44063126, 21.77358717, 21.69637503, 21.4202078 ,\n",
       "         21.46360474, 21.20774341, 21.2100523 , 21.52255093, 21.47385612,\n",
       "         20.92282874, 20.97314817, 21.01704072, 21.08150939, 20.61561877]), num_obs=15),\n",
       "  Observations(ssObjectId='8268570668335894776', filter_name='y', mag=array([], dtype=object), magErr=array([], dtype=object), midpointMjdTai=array([], dtype=object), ra=array([], dtype=object), dec=array([], dtype=object), phaseAngle=array([], dtype=object), topocentricDist=array([], dtype=object), heliocentricDist=array([], dtype=object), reduced_mag=array([], dtype=object), num_obs=0)],\n",
       " 'MPCORB': MPCORB(ssObjectId='8268570668335894776', mpcDesignation='2014 QL4', mpcNumber=0, mpcH=19.8799991607666, mpcG=0.15000000596046448, epoch=60065.0, peri=260.5468204162153, node=322.8059, incl=4.427569999999975, e=0.7168805704972735, n=nan, q=0.5898291078470536, uncertaintyParameter='', flags='0'),\n",
       " 'SSObject': SSObject(ssObjectId='8268570668335894776', filter_list=['u', 'g', 'r', 'i', 'z', 'y'], discoverySubmissionDate=60218.0, firstObservationDate=60220.01958, arc=3342.05859375, numObs=94, H=array([        nan, 20.29232597, 19.80589294, 19.47262955, 19.59087944,\n",
       "                nan]), G12=array([       nan, 1.72339332, 1.52932608, 1.7948637 , 1.70006168,\n",
       "               nan]), Herr=array([       nan, 0.0302103 , 0.01974303, 0.02164448, 0.04272443,\n",
       "               nan]), G12err=array([       nan, 0.04049731, 0.05071714, 0.04562044, 0.09607928,\n",
       "               nan]), nData=array([ 0.,  9., 38., 32., 15.,  0.]), maxExtendedness=0.0, minExtendedness=0.0, medianExtendedness=0.0),\n",
       " 'AdlerData': AdlerData(filter_list=['u', 'g', 'r', 'i', 'z', 'y'], model_lists=[[], [], [], [], [], []], phaseAngle_min_adler=array([nan, nan, nan, nan, nan, nan]), phaseAngle_range_adler=array([nan, nan, nan, nan, nan, nan]), nobs_adler=array([0, 0, 0, 0, 0, 0]), arc_adler=array([nan, nan, nan, nan, nan, nan]), H_adler=[[], [], [], [], [], []], H_err_adler=[[], [], [], [], [], []], phase_parameters=[[], [], [], [], [], []], phase_parameters_err=[[], [], [], [], [], []])}"
      ]
     },
     "execution_count": 4,
     "metadata": {},
     "output_type": "execute_result"
    }
   ],
   "source": [
    "# inspect the object\n",
    "# planetoid.__dict__"
   ]
  },
  {
   "cell_type": "code",
   "execution_count": 5,
   "id": "1d360360-025b-4a77-acf5-325b2f2d1873",
   "metadata": {
    "execution": {
     "iopub.execute_input": "2024-02-29T16:09:14.290960Z",
     "iopub.status.busy": "2024-02-29T16:09:14.290631Z",
     "iopub.status.idle": "2024-02-29T16:09:14.307210Z",
     "shell.execute_reply": "2024-02-29T16:09:14.306215Z",
     "shell.execute_reply.started": "2024-02-29T16:09:14.290937Z"
    }
   },
   "outputs": [
    {
     "data": {
      "text/plain": [
       "{'ssObjectId': '8268570668335894776',\n",
       " 'filter_list': ['u', 'g', 'r', 'i', 'z', 'y'],\n",
       " 'discoverySubmissionDate': 60218.0,\n",
       " 'firstObservationDate': 60220.01958,\n",
       " 'arc': 3342.05859375,\n",
       " 'numObs': 94,\n",
       " 'H': array([        nan, 20.29232597, 19.80589294, 19.47262955, 19.59087944,\n",
       "                nan]),\n",
       " 'G12': array([       nan, 1.72339332, 1.52932608, 1.7948637 , 1.70006168,\n",
       "               nan]),\n",
       " 'Herr': array([       nan, 0.0302103 , 0.01974303, 0.02164448, 0.04272443,\n",
       "               nan]),\n",
       " 'G12err': array([       nan, 0.04049731, 0.05071714, 0.04562044, 0.09607928,\n",
       "               nan]),\n",
       " 'nData': array([ 0.,  9., 38., 32., 15.,  0.]),\n",
       " 'maxExtendedness': 0.0,\n",
       " 'minExtendedness': 0.0,\n",
       " 'medianExtendedness': 0.0}"
      ]
     },
     "execution_count": 5,
     "metadata": {},
     "output_type": "execute_result"
    }
   ],
   "source": [
    "planetoid.SSObject.__dict__"
   ]
  },
  {
   "cell_type": "code",
   "execution_count": 6,
   "id": "be8f8d63",
   "metadata": {},
   "outputs": [],
   "source": [
    "obs_r = planetoid.observations_in_filter(\"r\")"
   ]
  },
  {
   "cell_type": "code",
   "execution_count": 7,
   "id": "da1e483d",
   "metadata": {},
   "outputs": [
    {
     "data": {
      "text/plain": [
       "{'ssObjectId': '8268570668335894776',\n",
       " 'filter_name': 'r',\n",
       " 'mag': array([21.91399956, 21.98600006, 21.75900078, 22.09399986, 21.61499977,\n",
       "        21.72800064, 21.72200012, 20.4470005 , 21.78899956, 21.95899963,\n",
       "        22.17900085, 22.44499969, 22.38999939, 22.92399979, 22.24799919,\n",
       "        22.27599907, 22.29100037, 22.66200066, 22.69799995, 23.93300056,\n",
       "        23.74200058, 22.14299965, 22.16799927, 22.24900055, 22.28499985,\n",
       "        22.26199913, 22.44000053, 23.56800079, 23.70199966, 24.19499969,\n",
       "        22.22900009, 22.04899979, 22.17700005, 23.52199936, 23.70199966,\n",
       "        22.88699913, 23.06800079, 24.24200058]),\n",
       " 'magErr': array([0.095     , 0.049     , 0.07      , 0.047     , 0.036     ,\n",
       "        0.038     , 0.034     , 0.011     , 0.052     , 0.06      ,\n",
       "        0.042     , 0.098     , 0.1       , 0.116     , 0.046     ,\n",
       "        0.06      , 0.082     , 0.083     , 0.063     , 0.35100001,\n",
       "        0.2       , 0.057     , 0.034     , 0.036     , 0.054     ,\n",
       "        0.051     , 0.046     , 0.17200001, 0.199     , 0.17      ,\n",
       "        0.264     , 0.28299999, 0.31600001, 0.163     , 0.248     ,\n",
       "        0.182     , 0.211     , 0.38299999]),\n",
       " 'midpointMjdTai': array([63492.00291, 63500.06856, 63479.0044 , 63502.00311, 62406.09011,\n",
       "        62407.07445, 62407.09369, 61294.15865, 62412.12365, 62414.13572,\n",
       "        62415.05691, 62422.06327, 62422.06596, 63534.03975, 61322.07319,\n",
       "        61323.00925, 61326.03134, 61329.00043, 61330.01524, 63554.05676,\n",
       "        63562.05437, 60223.98877, 60224.07621, 60226.02382, 60228.0802 ,\n",
       "        60228.08066, 60230.03315, 61355.02232, 61355.02277, 60264.01472,\n",
       "        61253.97055, 61253.96744, 61253.96433, 61052.13729, 63217.23761,\n",
       "        62125.2233 , 62113.17449, 62095.28873]),\n",
       " 'ra': array([268.4639755, 281.1782352, 239.848597 , 283.7424099, 298.1255196,\n",
       "        298.9437966, 298.9592036, 301.5682143, 302.7875618, 304.1818652,\n",
       "        304.7993288, 309.1175392, 309.1190487, 311.280946 , 315.2799036,\n",
       "        315.6390597, 316.7793075, 317.8804823, 318.2527231, 322.0860789,\n",
       "        325.868688 , 322.7789008, 322.7931457, 323.1475474, 323.5372789,\n",
       "        323.5373434, 323.9242256, 327.0967385, 327.0968451, 332.3781914,\n",
       "        170.4323598, 170.4247983, 170.4172297,  62.6767601,  68.4459325,\n",
       "         69.233718 ,  74.6917865,  81.7128501]),\n",
       " 'dec': array([-22.9543395, -21.8517282, -21.8243507, -21.5140075, -18.6306791,\n",
       "        -18.443366 , -18.4396764, -17.709034 , -17.5230447, -17.1737751,\n",
       "        -17.0169932, -15.874741 , -15.8743016, -15.6284188, -13.7156598,\n",
       "        -13.6098197, -13.2712987, -12.9420707, -12.8300092, -12.3090787,\n",
       "        -11.0256047, -10.889507 , -10.8850457, -10.7825671, -10.6694075,\n",
       "        -10.6693695, -10.5571517, -10.035292 , -10.0351984,  -7.9025949,\n",
       "         -3.6550378,  -3.6513877,  -3.6478445,  27.0535373,  28.5344673,\n",
       "         28.6462634,  29.3204275,  29.563878 ]),\n",
       " 'phaseAngle': array([ 56.70839691,  50.07988358,  72.76689148,  48.80239868,\n",
       "         40.30448914,  39.98022079,  39.97434235,  33.56268311,\n",
       "         38.53084564,  38.03194427,  37.81433105,  36.34851074,\n",
       "         36.34802628,  36.50101089,  32.00559616,  31.97466469,\n",
       "         31.86707687,  31.74268913,  31.69605255,  31.88496971,\n",
       "         30.16068649,  26.89824295,  26.91216087,  27.17892265,\n",
       "         27.42977715,  27.42983437,  27.63732719,  29.76596832,\n",
       "         29.76592445,  27.73990822, 126.7827301 , 126.78705597,\n",
       "        126.79136658,  18.63666534,   5.73195124,   7.0533433 ,\n",
       "          2.55333257,   9.17568874]),\n",
       " 'topocentricDist': array([0.58142245, 0.68610221, 0.47289231, 0.71412551, 0.70371586,\n",
       "        0.72016948, 0.72049457, 0.45957258, 0.806705  , 0.8421095 ,\n",
       "        0.85847169, 0.98606402, 0.98611432, 1.27393341, 0.93472457,\n",
       "        0.95206416, 1.00859618, 1.06491303, 1.08432984, 1.67350197,\n",
       "        1.8374033 , 0.92473841, 0.92631632, 0.96172243, 0.99953324,\n",
       "        0.99954176, 1.03583491, 1.58487654, 1.58488584, 1.71470714,\n",
       "        0.20776999, 0.20780498, 0.20783997, 1.4200809 , 1.59280014,\n",
       "        1.50733411, 1.56365716, 1.73338318]),\n",
       " 'heliocentricDist': array([1.19897687, 1.29408848, 1.0418874 , 1.31655276, 1.42970574,\n",
       "        1.44069195, 1.44090629, 1.35723567, 1.49640727, 1.51831007,\n",
       "        1.52828085, 1.60294342, 1.60297179, 1.66633558, 1.66025329,\n",
       "        1.66984999, 1.70058703, 1.73042095, 1.74053574, 1.86338043,\n",
       "        1.93771982, 1.73265779, 1.73353231, 1.75293028, 1.77324426,\n",
       "        1.77324879, 1.79237878, 1.97701716, 1.97702122, 2.10192013,\n",
       "        0.87671232, 0.87667543, 0.87663853, 2.21820784, 2.55602884,\n",
       "        2.46223307, 2.54469585, 2.65981913]),\n",
       " 'reduced_mag': array([22.69748655, 22.2442361 , 23.29608557, 22.22793578, 21.60177977,\n",
       "        21.64797142, 21.64066789, 21.47195362, 21.38017677, 21.42535443,\n",
       "        21.5893551 , 21.45088317, 21.39573365, 21.28945381, 21.29370916,\n",
       "        21.2692807 , 21.11941945, 21.33467112, 21.31877818, 21.46336177,\n",
       "        20.98452321, 21.11934119, 21.13954299, 21.1149286 , 21.04217083,\n",
       "        21.01914605, 21.09639885, 21.08797141, 21.22195309, 21.41096887,\n",
       "        25.92680044, 25.74652589, 25.87425196, 21.03042275, 20.65336449,\n",
       "        20.03930569, 20.06911369, 20.92326717]),\n",
       " 'num_obs': 38}"
      ]
     },
     "execution_count": 7,
     "metadata": {},
     "output_type": "execute_result"
    }
   ],
   "source": [
    "obs_r.__dict__"
   ]
  },
  {
   "cell_type": "code",
   "execution_count": 8,
   "id": "9d7dc125-06c1-49ad-8854-17d8c8b6954f",
   "metadata": {
    "execution": {
     "iopub.execute_input": "2024-02-29T16:09:14.353538Z",
     "iopub.status.busy": "2024-02-29T16:09:14.352944Z",
     "iopub.status.idle": "2024-02-29T16:09:14.544075Z",
     "shell.execute_reply": "2024-02-29T16:09:14.543137Z",
     "shell.execute_reply.started": "2024-02-29T16:09:14.353500Z"
    }
   },
   "outputs": [
    {
     "data": {
      "image/png": "[encoded data removed]",
      "text/plain": [
       "<Figure size 640x480 with 1 Axes>"
      ]
     },
     "metadata": {},
     "output_type": "display_data"
    }
   ],
   "source": [
    "# plot the observations\n",
    "x_plot = \"phaseAngle\"\n",
    "y_plot = \"reduced_mag\"\n",
    "\n",
    "x = getattr(obs_r, x_plot)\n",
    "y = getattr(obs_r, y_plot)\n",
    "xerr = obs_r.magErr\n",
    "\n",
    "fig = plt.figure()\n",
    "gs = gridspec.GridSpec(1, 1)\n",
    "ax1 = plt.subplot(gs[0, 0])\n",
    "\n",
    "ax1.errorbar(x, y, xerr, fmt=\"o\")\n",
    "\n",
    "ax1.invert_yaxis()\n",
    "ax1.set_xlabel(x_plot)\n",
    "ax1.set_ylabel(y_plot)\n",
    "\n",
    "plt.show()"
   ]
  },
  {
   "cell_type": "code",
   "execution_count": 9,
   "id": "6efe3b5a-09dd-4d5e-9f41-20ea6e1b43df",
   "metadata": {
    "execution": {
     "iopub.execute_input": "2024-02-29T16:09:14.545627Z",
     "iopub.status.busy": "2024-02-29T16:09:14.545342Z",
     "iopub.status.idle": "2024-02-29T16:09:14.553323Z",
     "shell.execute_reply": "2024-02-29T16:09:14.552540Z",
     "shell.execute_reply.started": "2024-02-29T16:09:14.545603Z"
    }
   },
   "outputs": [
    {
     "name": "stderr",
     "output_type": "stream",
     "text": [
      "/Users/jrobinson/miniconda3/envs/adler-dev/lib/python3.10/site-packages/sbpy/photometry/iau.py:50: InvalidPhaseFunctionWarning: G12 parameter could result in an invalid phsae function\n",
      "  warnings.warn(msg, exception)\n"
     ]
    }
   ],
   "source": [
    "# define the phase curve\n",
    "\n",
    "r_H = planetoid.SSObject.H[2]\n",
    "r_G12 = planetoid.SSObject.G12[2]\n",
    "\n",
    "pc = PhaseCurve(\n",
    "    abs_mag=r_H * u.mag, phase_param=r_G12, model_name=\"HG12_Pen16\"\n",
    ")"
   ]
  },
  {
   "cell_type": "code",
   "execution_count": 10,
   "id": "80f552f1-8907-4cc9-b57c-2e667eab459c",
   "metadata": {
    "execution": {
     "iopub.execute_input": "2024-02-29T16:09:14.554644Z",
     "iopub.status.busy": "2024-02-29T16:09:14.554319Z",
     "iopub.status.idle": "2024-02-29T16:09:14.571588Z",
     "shell.execute_reply": "2024-02-29T16:09:14.570921Z",
     "shell.execute_reply.started": "2024-02-29T16:09:14.554620Z"
    }
   },
   "outputs": [
    {
     "data": {
      "text/plain": [
       "<HG12_Pen16(H=19.80589294 mag, G12=1.52932608)>"
      ]
     },
     "execution_count": 10,
     "metadata": {},
     "output_type": "execute_result"
    }
   ],
   "source": [
    "pc.model_function"
   ]
  },
  {
   "cell_type": "code",
   "execution_count": 11,
   "id": "24c1955e-95cd-4d77-ad05-aa5b8d18620a",
   "metadata": {
    "execution": {
     "iopub.execute_input": "2024-02-29T16:09:14.572987Z",
     "iopub.status.busy": "2024-02-29T16:09:14.572491Z",
     "iopub.status.idle": "2024-02-29T16:09:14.593610Z",
     "shell.execute_reply": "2024-02-29T16:09:14.592732Z",
     "shell.execute_reply.started": "2024-02-29T16:09:14.572960Z"
    }
   },
   "outputs": [
    {
     "data": {
      "text/latex": [
       "$[0,~2.5875789,~5.1751578,~7.7627367,~10.350316,~12.937895,~15.525473,~18.113052,~20.700631,~23.28821,~25.875789,~28.463368,~31.050947,~33.638526,~36.226105,~38.813684,~41.401263,~43.988841,~46.57642,~49.163999,~51.751578,~54.339157,~56.926736,~59.514315,~62.101894,~64.689473,~67.277052,~69.864631,~72.452209,~75.039788,~77.627367,~80.214946,~82.802525,~85.390104,~87.977683,~90.565262,~93.152841,~95.74042,~98.327999,~100.91558,~103.50316,~106.09074,~108.67831,~111.26589,~113.85347,~116.44105,~119.02863,~121.61621,~124.20379,~126.79137] \\; \\mathrm{{}^{\\circ}}$"
      ],
      "text/plain": [
       "<Quantity [  0.        ,   2.58757891,   5.17515782,   7.76273673,\n",
       "            10.35031564,  12.93789455,  15.52547346,  18.11305237,\n",
       "            20.70063128,  23.28821019,  25.8757891 ,  28.46336801,\n",
       "            31.05094692,  33.63852583,  36.22610474,  38.81368365,\n",
       "            41.40126256,  43.98884147,  46.57642038,  49.16399929,\n",
       "            51.75157819,  54.3391571 ,  56.92673601,  59.51431492,\n",
       "            62.10189383,  64.68947274,  67.27705165,  69.86463056,\n",
       "            72.45220947,  75.03978838,  77.62736729,  80.2149462 ,\n",
       "            82.80252511,  85.39010402,  87.97768293,  90.56526184,\n",
       "            93.15284075,  95.74041966,  98.32799857, 100.91557748,\n",
       "           103.50315639, 106.0907353 , 108.67831421, 111.26589312,\n",
       "           113.85347203, 116.44105094, 119.02862985, 121.61620876,\n",
       "           124.20378767, 126.79136658] deg>"
      ]
     },
     "execution_count": 11,
     "metadata": {},
     "output_type": "execute_result"
    }
   ],
   "source": [
    "alpha = np.linspace(0, np.amax(obs_r.phaseAngle)) * u.deg\n",
    "alpha"
   ]
  },
  {
   "cell_type": "code",
   "execution_count": 12,
   "id": "c3f30fe0-0d89-4ffa-8237-9c71181d44ee",
   "metadata": {
    "execution": {
     "iopub.execute_input": "2024-02-29T16:09:14.594977Z",
     "iopub.status.busy": "2024-02-29T16:09:14.594621Z",
     "iopub.status.idle": "2024-02-29T16:09:14.614140Z",
     "shell.execute_reply": "2024-02-29T16:09:14.613401Z",
     "shell.execute_reply.started": "2024-02-29T16:09:14.594943Z"
    }
   },
   "outputs": [
    {
     "data": {
      "text/latex": [
       "$[19.805893,~19.920355,~20.052052,~20.202895,~20.360566,~20.513141,~20.658458,~20.794601,~20.920251,~21.035105,~21.140282,~21.238644,~21.334969,~21.432803,~21.532351,~21.633562,~21.736362,~21.840655,~21.946316,~22.053192,~22.161093,~22.2698,~22.379056,~22.488576,~22.598035,~22.706974,~22.814826,~22.920961,~23.024702,~23.12535,~23.222222,~23.314692,~23.402255,~23.484581,~23.561579,~23.633452,~23.700294,~23.761468,~23.816277,~23.864116,~23.904505,~23.937131,~23.961868,~23.978792,~23.988178,~23.990477,~23.986295,~23.97653,~23.964571,~23.955435] \\; \\mathrm{mag}$"
      ],
      "text/plain": [
       "<Quantity [19.80589295, 19.92035462, 20.05205158, 20.20289499, 20.36056619,\n",
       "           20.51314093, 20.6584576 , 20.79460082, 20.92025081, 21.03510523,\n",
       "           21.14028241, 21.23864429, 21.33496854, 21.4328029 , 21.53235116,\n",
       "           21.63356172, 21.73636196, 21.84065497, 21.94631645, 22.05319171,\n",
       "           22.16109332, 22.26979979, 22.37905599, 22.48857609, 22.59803543,\n",
       "           22.70697432, 22.81482593, 22.92096063, 23.02470165, 23.12535025,\n",
       "           23.22222176, 23.31469242, 23.40225513, 23.48458066, 23.56157882,\n",
       "           23.6334516 , 23.70029421, 23.761468  , 23.81627732, 23.86411552,\n",
       "           23.9045047 , 23.9371306 , 23.96186796, 23.97879245, 23.98817765,\n",
       "           23.99047722, 23.98629539, 23.97653042, 23.96457121, 23.95543471] mag>"
      ]
     },
     "execution_count": 12,
     "metadata": {},
     "output_type": "execute_result"
    }
   ],
   "source": [
    "red_mag = pc.ReducedMag(alpha)\n",
    "red_mag"
   ]
  },
  {
   "cell_type": "code",
   "execution_count": 13,
   "id": "04be98a1-e4dc-4216-bcd9-ef777f6053fb",
   "metadata": {
    "execution": {
     "iopub.execute_input": "2024-02-29T16:09:14.615656Z",
     "iopub.status.busy": "2024-02-29T16:09:14.615050Z",
     "iopub.status.idle": "2024-02-29T16:09:14.783515Z",
     "shell.execute_reply": "2024-02-29T16:09:14.782664Z",
     "shell.execute_reply.started": "2024-02-29T16:09:14.615623Z"
    }
   },
   "outputs": [
    {
     "data": {
      "image/png": "[encoded data removed]",
      "text/plain": [
       "<Figure size 640x480 with 1 Axes>"
      ]
     },
     "metadata": {},
     "output_type": "display_data"
    }
   ],
   "source": [
    "# %matplotlib widget\n",
    "\n",
    "# plot the observations with the LSST phase curve\n",
    "x_plot = \"phaseAngle\"\n",
    "y_plot = \"reduced_mag\"\n",
    "\n",
    "x = getattr(obs_r, x_plot)\n",
    "y = getattr(obs_r, y_plot)\n",
    "xerr = obs_r.magErr\n",
    "\n",
    "fig = plt.figure()\n",
    "gs = gridspec.GridSpec(1, 1)\n",
    "ax1 = plt.subplot(gs[0, 0])\n",
    "\n",
    "ax1.errorbar(x, y, xerr, fmt=\"o\")\n",
    "\n",
    "ax1.plot(alpha.value, red_mag.value)\n",
    "\n",
    "ax1.invert_yaxis()\n",
    "ax1.set_xlabel(x_plot)\n",
    "ax1.set_ylabel(y_plot)\n",
    "\n",
    "plt.show()"
   ]
  },
  {
   "cell_type": "code",
   "execution_count": 14,
   "id": "9815543d-6140-4bdb-8bad-8296994723f4",
   "metadata": {
    "execution": {
     "iopub.execute_input": "2024-02-29T16:09:14.784754Z",
     "iopub.status.busy": "2024-02-29T16:09:14.784498Z",
     "iopub.status.idle": "2024-02-29T16:09:14.953022Z",
     "shell.execute_reply": "2024-02-29T16:09:14.952237Z",
     "shell.execute_reply.started": "2024-02-29T16:09:14.784731Z"
    }
   },
   "outputs": [
    {
     "data": {
      "image/png": "[encoded data removed]",
      "text/plain": [
       "<Figure size 640x480 with 1 Axes>"
      ]
     },
     "metadata": {},
     "output_type": "display_data"
    }
   ],
   "source": [
    "# plot the observations\n",
    "x_plot = \"midpointMjdTai\"\n",
    "y_plot = \"reduced_mag\"\n",
    "\n",
    "x = getattr(obs_r, x_plot)\n",
    "y = getattr(obs_r, y_plot)\n",
    "xerr = obs_r.magErr\n",
    "\n",
    "fig = plt.figure()\n",
    "gs = gridspec.GridSpec(1, 1)\n",
    "ax1 = plt.subplot(gs[0, 0])\n",
    "\n",
    "ax1.errorbar(x, y, xerr, fmt=\"o\")\n",
    "\n",
    "ax1.invert_yaxis()\n",
    "ax1.set_xlabel(x_plot)\n",
    "ax1.set_ylabel(y_plot)\n",
    "\n",
    "plt.show()"
   ]
  },
  {
   "cell_type": "code",
   "execution_count": 15,
   "id": "de462b92-3914-4091-b0af-bddd9e9c1ef1",
   "metadata": {
    "execution": {
     "iopub.execute_input": "2024-02-29T16:09:14.954181Z",
     "iopub.status.busy": "2024-02-29T16:09:14.953935Z",
     "iopub.status.idle": "2024-02-29T16:09:14.957556Z",
     "shell.execute_reply": "2024-02-29T16:09:14.956913Z",
     "shell.execute_reply.started": "2024-02-29T16:09:14.954159Z"
    }
   },
   "outputs": [],
   "source": [
    "# do a different phase curve fit to the data\n",
    "# adler should be able to fit different models, and perform more sophisticated fits"
   ]
  },
  {
   "cell_type": "code",
   "execution_count": 16,
   "id": "f92891c9-6ccf-4dac-8887-9545f633ba90",
   "metadata": {
    "execution": {
     "iopub.execute_input": "2024-02-29T16:09:14.963464Z",
     "iopub.status.busy": "2024-02-29T16:09:14.958584Z",
     "iopub.status.idle": "2024-02-29T16:09:14.975015Z",
     "shell.execute_reply": "2024-02-29T16:09:14.974187Z",
     "shell.execute_reply.started": "2024-02-29T16:09:14.963434Z"
    }
   },
   "outputs": [],
   "source": [
    "pc_fit = PhaseCurve(abs_mag=pc.abs_mag, model_name=\"HG\")"
   ]
  },
  {
   "cell_type": "code",
   "execution_count": 17,
   "id": "db24432b-6d05-4ff2-9d98-e52d8c2e4342",
   "metadata": {
    "execution": {
     "iopub.execute_input": "2024-02-29T16:09:14.976283Z",
     "iopub.status.busy": "2024-02-29T16:09:14.975943Z",
     "iopub.status.idle": "2024-02-29T16:09:14.992854Z",
     "shell.execute_reply": "2024-02-29T16:09:14.992071Z",
     "shell.execute_reply.started": "2024-02-29T16:09:14.976260Z"
    }
   },
   "outputs": [
    {
     "data": {
      "text/plain": [
       "<HG(H=19.80589294 mag, G=0.2)>"
      ]
     },
     "execution_count": 17,
     "metadata": {},
     "output_type": "execute_result"
    }
   ],
   "source": [
    "pc_fit.model_function"
   ]
  },
  {
   "cell_type": "code",
   "execution_count": 18,
   "id": "9039e2e2-27d9-4d21-b2f6-9504a5b85ce4",
   "metadata": {
    "execution": {
     "iopub.execute_input": "2024-02-29T16:09:14.994511Z",
     "iopub.status.busy": "2024-02-29T16:09:14.993863Z",
     "iopub.status.idle": "2024-02-29T16:09:15.023285Z",
     "shell.execute_reply": "2024-02-29T16:09:15.022583Z",
     "shell.execute_reply.started": "2024-02-29T16:09:14.994486Z"
    }
   },
   "outputs": [
    {
     "name": "stdout",
     "output_type": "stream",
     "text": [
      "<astropy.modeling.fitting.LevMarLSQFitter object at 0x14ada6d40>\n"
     ]
    },
    {
     "data": {
      "text/plain": [
       "<HG(H=18.87964381 mag, G=-0.253 )>"
      ]
     },
     "execution_count": 18,
     "metadata": {},
     "output_type": "execute_result"
    }
   ],
   "source": [
    "pc_fit.FitModel(\n",
    "    phase_angle=obs_r.phaseAngle * u.deg,\n",
    "    reduced_mag=obs_r.reduced_mag * u.mag,\n",
    "    mag_err=obs_r.magErr * u.mag,\n",
    ")"
   ]
  },
  {
   "cell_type": "code",
   "execution_count": 19,
   "id": "5d4b7144-ee72-45e0-9606-c40f83c443c6",
   "metadata": {
    "execution": {
     "iopub.execute_input": "2024-02-29T16:09:15.024555Z",
     "iopub.status.busy": "2024-02-29T16:09:15.024229Z",
     "iopub.status.idle": "2024-02-29T16:09:15.217263Z",
     "shell.execute_reply": "2024-02-29T16:09:15.216519Z",
     "shell.execute_reply.started": "2024-02-29T16:09:15.024533Z"
    }
   },
   "outputs": [
    {
     "data": {
      "image/png": "[encoded data removed]",
      "text/plain": [
       "<Figure size 640x480 with 1 Axes>"
      ]
     },
     "metadata": {},
     "output_type": "display_data"
    }
   ],
   "source": [
    "# %matplotlib widget\n",
    "\n",
    "# plot the observations with the LSST phase curve\n",
    "x_plot = \"phaseAngle\"\n",
    "y_plot = \"reduced_mag\"\n",
    "\n",
    "x = getattr(obs_r, x_plot)\n",
    "y = getattr(obs_r, y_plot)\n",
    "xerr = obs_r.magErr\n",
    "\n",
    "fig = plt.figure()\n",
    "gs = gridspec.GridSpec(1, 1)\n",
    "ax1 = plt.subplot(gs[0, 0])\n",
    "\n",
    "ax1.errorbar(x, y, xerr, fmt=\"o\")\n",
    "\n",
    "ax1.plot(alpha.value, pc.ReducedMag(alpha).value, label=pc.model_name)\n",
    "ax1.plot(alpha.value, pc_fit.ReducedMag(alpha).value, label=pc_fit.model_name)\n",
    "\n",
    "ax1.invert_yaxis()\n",
    "ax1.set_xlabel(x_plot)\n",
    "ax1.set_ylabel(y_plot)\n",
    "ax1.legend()\n",
    "\n",
    "plt.show()"
   ]
  },
  {
   "cell_type": "code",
   "execution_count": 20,
   "id": "b7f39ed4-8334-4e10-a97c-a9471105225b",
   "metadata": {
    "execution": {
     "iopub.execute_input": "2024-02-29T16:09:15.221317Z",
     "iopub.status.busy": "2024-02-29T16:09:15.220742Z",
     "iopub.status.idle": "2024-02-29T16:09:15.224414Z",
     "shell.execute_reply": "2024-02-29T16:09:15.223697Z",
     "shell.execute_reply.started": "2024-02-29T16:09:15.221290Z"
    }
   },
   "outputs": [],
   "source": [
    "# # now we would add our calculated values back into planetoid\n",
    "# planetoid.AdlerSchema.r_H = pc_fit.abs_mag\n",
    "# planetoid.AdlerSchema.r_G = pc_fit.phase_param"
   ]
  }
 ],
 "metadata": {
  "kernelspec": {
   "display_name": "adler-dev",
   "language": "python",
   "name": "adler-dev"
  },
  "language_info": {
   "codemirror_mode": {
    "name": "ipython",
    "version": 3
   },
   "file_extension": ".py",
   "mimetype": "text/x-python",
   "name": "python",
   "nbconvert_exporter": "python",
   "pygments_lexer": "ipython3",
   "version": "3.10.13"
  }
 },
 "nbformat": 4,
 "nbformat_minor": 5
}
